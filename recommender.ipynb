{
  "nbformat": 4,
  "nbformat_minor": 0,
  "metadata": {
    "colab": {
      "name": "recommender.ipynb",
      "provenance": [],
      "collapsed_sections": [],
      "machine_shape": "hm",
      "include_colab_link": true
    },
    "kernelspec": {
      "name": "python3",
      "display_name": "Python 3"
    },
    "accelerator": "GPU"
  },
  "cells": [
    {
      "cell_type": "markdown",
      "metadata": {
        "id": "view-in-github",
        "colab_type": "text"
      },
      "source": [
        "<a href=\"https://colab.research.google.com/github/Rahullnitp/Restaurant_recommender/blob/master/recommender.ipynb\" target=\"_parent\"><img src=\"https://colab.research.google.com/assets/colab-badge.svg\" alt=\"Open In Colab\"/></a>"
      ]
    },
    {
      "cell_type": "code",
      "metadata": {
        "id": "kIBU4j4Yd3YG",
        "colab_type": "code",
        "outputId": "95d883c8-e3bf-4bc6-d817-a9610bb2444b",
        "colab": {
          "base_uri": "https://localhost:8080/",
          "height": 34
        }
      },
      "source": [
        "from google.colab import drive\n",
        "drive.mount('/content/drive')"
      ],
      "execution_count": 0,
      "outputs": [
        {
          "output_type": "stream",
          "text": [
            "Drive already mounted at /content/drive; to attempt to forcibly remount, call drive.mount(\"/content/drive\", force_remount=True).\n"
          ],
          "name": "stdout"
        }
      ]
    },
    {
      "cell_type": "code",
      "metadata": {
        "id": "14EKEeo4eAWh",
        "colab_type": "code",
        "outputId": "c6812288-5577-4c7c-80fb-300e48593591",
        "colab": {
          "base_uri": "https://localhost:8080/",
          "height": 34
        }
      },
      "source": [
        "%cd /content/drive/My Drive/recommender"
      ],
      "execution_count": 0,
      "outputs": [
        {
          "output_type": "stream",
          "text": [
            "/content/drive/My Drive/recommender\n"
          ],
          "name": "stdout"
        }
      ]
    },
    {
      "cell_type": "code",
      "metadata": {
        "id": "szBGmFZiTCJe",
        "colab_type": "code",
        "colab": {}
      },
      "source": [
        "from google.colab import files\n",
        "uploaded=files.upload()"
      ],
      "execution_count": 0,
      "outputs": []
    },
    {
      "cell_type": "code",
      "metadata": {
        "id": "8kaaTqsfucId",
        "colab_type": "code",
        "colab": {}
      },
      "source": [
        "# !pip install -q kaggle\n",
        "# !mkdir -p ~/.kaggle\n",
        "# !cp kaggle.json ~/.kaggle/\n",
        "# !chmod 600 ~/.kaggle/kaggle.json"
      ],
      "execution_count": 0,
      "outputs": []
    },
    {
      "cell_type": "code",
      "metadata": {
        "id": "TgwEqtt5uhXe",
        "colab_type": "code",
        "colab": {}
      },
      "source": [
        "# !kaggle datasets download -d yelp-dataset/yelp-dataset"
      ],
      "execution_count": 0,
      "outputs": []
    },
    {
      "cell_type": "code",
      "metadata": {
        "id": "lKpm9EjcgD7N",
        "colab_type": "code",
        "colab": {}
      },
      "source": [
        ""
      ],
      "execution_count": 0,
      "outputs": []
    },
    {
      "cell_type": "code",
      "metadata": {
        "id": "E4rGSudKu2xz",
        "colab_type": "code",
        "colab": {}
      },
      "source": [
        "import numpy as np \n",
        "import pandas as pd\n",
        "# import seaborn as sns \n",
        "import re\n",
        "import warnings\n",
        "from sklearn.feature_extraction.text import TfidfVectorizer\n",
        "from sklearn.metrics.pairwise import linear_kernel\n",
        "# import matplotlib.pyplot as plt\n",
        "# %matplotlib inline\n",
        "import gc\n",
        "import json"
      ],
      "execution_count": 0,
      "outputs": []
    },
    {
      "cell_type": "code",
      "metadata": {
        "id": "VSqf6s5TvWTS",
        "colab_type": "code",
        "colab": {}
      },
      "source": [
        "from sklearn.model_selection import train_test_split\n",
        "from nltk.corpus import stopwords \n",
        "from nltk.tokenize import WordPunctTokenizer"
      ],
      "execution_count": 0,
      "outputs": []
    },
    {
      "cell_type": "markdown",
      "metadata": {
        "id": "uYXDPYyTODTz",
        "colab_type": "text"
      },
      "source": [
        "###Data_Preprocessing"
      ]
    },
    {
      "cell_type": "markdown",
      "metadata": {
        "id": "INnIjN3jORu1",
        "colab_type": "text"
      },
      "source": [
        "restaurant_data"
      ]
    },
    {
      "cell_type": "code",
      "metadata": {
        "id": "Jhoe4gDUOMai",
        "colab_type": "code",
        "colab": {}
      },
      "source": [
        "# data_restaurant=pd.read_json('/content/drive/My Drive/recommender/yelp_academic_dataset_business.json',lines=True)"
      ],
      "execution_count": 0,
      "outputs": []
    },
    {
      "cell_type": "code",
      "metadata": {
        "id": "nbiw576gOMXF",
        "colab_type": "code",
        "colab": {}
      },
      "source": [
        "# data_restaurant.columns"
      ],
      "execution_count": 0,
      "outputs": []
    },
    {
      "cell_type": "code",
      "metadata": {
        "id": "rG6dsYV9mUBp",
        "colab_type": "code",
        "colab": {}
      },
      "source": [
        "# data_restaurant.shape"
      ],
      "execution_count": 0,
      "outputs": []
    },
    {
      "cell_type": "code",
      "metadata": {
        "colab_type": "code",
        "id": "sFOa_ugnkZdg",
        "colab": {}
      },
      "source": [
        "# data_restaurant=data_restaurant.rename(columns = {'review_count': 'RatingCount'})"
      ],
      "execution_count": 0,
      "outputs": []
    },
    {
      "cell_type": "code",
      "metadata": {
        "colab_type": "code",
        "id": "3dgh4vmakZdi",
        "colab": {}
      },
      "source": [
        "#  data_restaurant=data_restaurant.dropna(subset=['categories'])"
      ],
      "execution_count": 0,
      "outputs": []
    },
    {
      "cell_type": "code",
      "metadata": {
        "id": "sRHjZYJUOMPr",
        "colab_type": "code",
        "colab": {}
      },
      "source": [
        "# data_restaurant=data_restaurant[['business_id', 'name', 'city', 'stars', 'RatingCount', 'categories']]"
      ],
      "execution_count": 0,
      "outputs": []
    },
    {
      "cell_type": "code",
      "metadata": {
        "id": "WT9hM1dnOMTv",
        "colab_type": "code",
        "colab": {}
      },
      "source": [
        "# data_restaurant.to_csv('df.csv')"
      ],
      "execution_count": 0,
      "outputs": []
    },
    {
      "cell_type": "code",
      "metadata": {
        "id": "uW_BMLl60FYK",
        "colab_type": "code",
        "colab": {}
      },
      "source": [
        ""
      ],
      "execution_count": 0,
      "outputs": []
    },
    {
      "cell_type": "code",
      "metadata": {
        "id": "XD5XULk24aS5",
        "colab_type": "code",
        "colab": {}
      },
      "source": [
        "# data_review=pd.read_json('/content/drive/My Drive/recommender/yelp_academic_dataset_review.json',lines=True,chunksize=100000)"
      ],
      "execution_count": 0,
      "outputs": []
    },
    {
      "cell_type": "code",
      "metadata": {
        "id": "-cPekwBugxzF",
        "colab_type": "code",
        "colab": {}
      },
      "source": [
        "# %%time\n",
        "# chunk_list=[]\n",
        "# for chunk in data_review:\n",
        "#   chunk_list.append(chunk)\n",
        "# df_concat1=pd.concat(chunk_list)"
      ],
      "execution_count": 0,
      "outputs": []
    },
    {
      "cell_type": "code",
      "metadata": {
        "id": "6HteuQAO2HF5",
        "colab_type": "code",
        "outputId": "93a67d2e-46bd-4cd2-c140-7578456b5645",
        "colab": {
          "base_uri": "https://localhost:8080/",
          "height": 67
        }
      },
      "source": [
        "# df_concat1.columns"
      ],
      "execution_count": 0,
      "outputs": [
        {
          "output_type": "execute_result",
          "data": {
            "text/plain": [
              "Index(['review_id', 'user_id', 'business_id', 'stars', 'useful', 'funny',\n",
              "       'cool', 'text', 'date'],\n",
              "      dtype='object')"
            ]
          },
          "metadata": {
            "tags": []
          },
          "execution_count": 34
        }
      ]
    },
    {
      "cell_type": "code",
      "metadata": {
        "id": "9aW8uhYo4aO2",
        "colab_type": "code",
        "colab": {}
      },
      "source": [
        "# yelp_data1 = df_concat1[['business_id', 'user_id', 'stars', 'text']]"
      ],
      "execution_count": 0,
      "outputs": []
    },
    {
      "cell_type": "code",
      "metadata": {
        "id": "pEBZoyJYo0a5",
        "colab_type": "code",
        "colab": {}
      },
      "source": [
        "#  yelp_data2 = pd.merge(df[['categories','business_id','city']], yelp_data1, on='business_id')"
      ],
      "execution_count": 0,
      "outputs": []
    },
    {
      "cell_type": "code",
      "metadata": {
        "id": "xk7zZ4MrrhH0",
        "colab_type": "code",
        "outputId": "8cabe766-d523-4e93-f800-e6563e3d55f8",
        "colab": {
          "base_uri": "https://localhost:8080/",
          "height": 34
        }
      },
      "source": [
        "# yelp_data2.shape"
      ],
      "execution_count": 0,
      "outputs": [
        {
          "output_type": "execute_result",
          "data": {
            "text/plain": [
              "(115013, 6)"
            ]
          },
          "metadata": {
            "tags": []
          },
          "execution_count": 307
        }
      ]
    },
    {
      "cell_type": "code",
      "metadata": {
        "id": "w6XL9qbjqAiC",
        "colab_type": "code",
        "colab": {}
      },
      "source": [
        "# yelp_data2['user_id'].value_counts()"
      ],
      "execution_count": 0,
      "outputs": []
    },
    {
      "cell_type": "code",
      "metadata": {
        "id": "vIdD2CPQqEWh",
        "colab_type": "code",
        "colab": {}
      },
      "source": [
        "# counts = yelp_data2['user_id'].value_counts()\n",
        "\n",
        "# data = yelp_data2[~yelp_data2['user_id'].isin(counts[counts < 2].index)]"
      ],
      "execution_count": 0,
      "outputs": []
    },
    {
      "cell_type": "code",
      "metadata": {
        "id": "Emdb8W9yr9_3",
        "colab_type": "code",
        "outputId": "006a7b86-b769-4f3c-d724-9a8b8a74d998",
        "colab": {
          "base_uri": "https://localhost:8080/",
          "height": 34
        }
      },
      "source": [
        "# data.shape"
      ],
      "execution_count": 0,
      "outputs": [
        {
          "output_type": "execute_result",
          "data": {
            "text/plain": [
              "(43160, 6)"
            ]
          },
          "metadata": {
            "tags": []
          },
          "execution_count": 310
        }
      ]
    },
    {
      "cell_type": "code",
      "metadata": {
        "id": "OdWnfuoosAY0",
        "colab_type": "code",
        "colab": {}
      },
      "source": [
        "# data['business_id'].value_counts()"
      ],
      "execution_count": 0,
      "outputs": []
    },
    {
      "cell_type": "code",
      "metadata": {
        "id": "FEADdbc8s3vG",
        "colab_type": "code",
        "colab": {}
      },
      "source": [
        "# data.to_csv('yelpData.csv')"
      ],
      "execution_count": 0,
      "outputs": []
    },
    {
      "cell_type": "code",
      "metadata": {
        "id": "MTeBVCP5SnhG",
        "colab_type": "code",
        "colab": {}
      },
      "source": [
        "databusiness=pd.read_csv('/content/drive/My Drive/recommender/df.csv')"
      ],
      "execution_count": 0,
      "outputs": []
    },
    {
      "cell_type": "code",
      "metadata": {
        "id": "brsljoiS8VND",
        "colab_type": "code",
        "colab": {}
      },
      "source": [
        "databusiness['city']=databusiness['city'].str.lower()"
      ],
      "execution_count": 0,
      "outputs": []
    },
    {
      "cell_type": "code",
      "metadata": {
        "id": "8l-T9qi5ySvL",
        "colab_type": "code",
        "outputId": "92704dbe-0a79-42c7-98f9-e2dc9600b322",
        "colab": {
          "base_uri": "https://localhost:8080/",
          "height": 195
        }
      },
      "source": [
        "databusiness.head()"
      ],
      "execution_count": 0,
      "outputs": [
        {
          "output_type": "execute_result",
          "data": {
            "text/html": [
              "<div>\n",
              "<style scoped>\n",
              "    .dataframe tbody tr th:only-of-type {\n",
              "        vertical-align: middle;\n",
              "    }\n",
              "\n",
              "    .dataframe tbody tr th {\n",
              "        vertical-align: top;\n",
              "    }\n",
              "\n",
              "    .dataframe thead th {\n",
              "        text-align: right;\n",
              "    }\n",
              "</style>\n",
              "<table border=\"1\" class=\"dataframe\">\n",
              "  <thead>\n",
              "    <tr style=\"text-align: right;\">\n",
              "      <th></th>\n",
              "      <th>Unnamed: 0</th>\n",
              "      <th>business_id</th>\n",
              "      <th>name</th>\n",
              "      <th>city</th>\n",
              "      <th>stars</th>\n",
              "      <th>RatingCount</th>\n",
              "      <th>categories</th>\n",
              "      <th>Airport</th>\n",
              "    </tr>\n",
              "  </thead>\n",
              "  <tbody>\n",
              "    <tr>\n",
              "      <th>0</th>\n",
              "      <td>1</td>\n",
              "      <td>QXAEGFB4oINsVuTFxEYKFQ</td>\n",
              "      <td>Emerald Chinese Restaurant</td>\n",
              "      <td>ranchi</td>\n",
              "      <td>2.5</td>\n",
              "      <td>128</td>\n",
              "      <td>Specialty Food, Restaurants, Dim Sum, Imported...</td>\n",
              "      <td>Birsa Munda International Airport</td>\n",
              "    </tr>\n",
              "    <tr>\n",
              "      <th>1</th>\n",
              "      <td>2</td>\n",
              "      <td>gnKjwL_1w79qoiV3IC_xQQ</td>\n",
              "      <td>Musashi Japanese Restaurant</td>\n",
              "      <td>guwahati</td>\n",
              "      <td>4.0</td>\n",
              "      <td>170</td>\n",
              "      <td>Sushi Bars, Restaurants, Japanese</td>\n",
              "      <td>Borjhar Airport</td>\n",
              "    </tr>\n",
              "    <tr>\n",
              "      <th>2</th>\n",
              "      <td>11</td>\n",
              "      <td>1Dfx3zM-rW4n-31KeC8sJg</td>\n",
              "      <td>Taco Bell</td>\n",
              "      <td>car nicobar</td>\n",
              "      <td>3.0</td>\n",
              "      <td>18</td>\n",
              "      <td>Restaurants, Breakfast &amp; Brunch, Mexican, Taco...</td>\n",
              "      <td>Car Nicobar Airport</td>\n",
              "    </tr>\n",
              "    <tr>\n",
              "      <th>3</th>\n",
              "      <td>13</td>\n",
              "      <td>fweCYi8FmbJXHCqLnwuk8w</td>\n",
              "      <td>Marco's Pizza</td>\n",
              "      <td>chandigarh</td>\n",
              "      <td>4.0</td>\n",
              "      <td>16</td>\n",
              "      <td>Italian, Restaurants, Pizza, Chicken Wings</td>\n",
              "      <td>Chandigarh Airport</td>\n",
              "    </tr>\n",
              "    <tr>\n",
              "      <th>4</th>\n",
              "      <td>14</td>\n",
              "      <td>-K4gAv8_vjx8-2BxkVeRkA</td>\n",
              "      <td>Baby Cakes</td>\n",
              "      <td>chennai</td>\n",
              "      <td>3.0</td>\n",
              "      <td>7</td>\n",
              "      <td>Bakeries, Food</td>\n",
              "      <td>Chennai International Airport</td>\n",
              "    </tr>\n",
              "  </tbody>\n",
              "</table>\n",
              "</div>"
            ],
            "text/plain": [
              "   Unnamed: 0  ...                            Airport\n",
              "0           1  ...  Birsa Munda International Airport\n",
              "1           2  ...                    Borjhar Airport\n",
              "2          11  ...                Car Nicobar Airport\n",
              "3          13  ...                 Chandigarh Airport\n",
              "4          14  ...      Chennai International Airport\n",
              "\n",
              "[5 rows x 8 columns]"
            ]
          },
          "metadata": {
            "tags": []
          },
          "execution_count": 9
        }
      ]
    },
    {
      "cell_type": "code",
      "metadata": {
        "id": "Vzq9Of0ze387",
        "colab_type": "code",
        "colab": {}
      },
      "source": [
        ""
      ],
      "execution_count": 0,
      "outputs": []
    },
    {
      "cell_type": "code",
      "metadata": {
        "id": "QWO8HUeK5W8s",
        "colab_type": "code",
        "colab": {}
      },
      "source": [
        "yelp_data=pd.read_csv('/content/drive/My Drive/recommender/yelpData.csv')"
      ],
      "execution_count": 0,
      "outputs": []
    },
    {
      "cell_type": "code",
      "metadata": {
        "id": "qOBSHCY01lhW",
        "colab_type": "code",
        "colab": {}
      },
      "source": [
        "yelp_data=yelp_data.dropna()"
      ],
      "execution_count": 0,
      "outputs": []
    },
    {
      "cell_type": "code",
      "metadata": {
        "id": "jnDM3QE77igx",
        "colab_type": "code",
        "colab": {}
      },
      "source": [
        "yelp_data['city']=yelp_data['city'].str.lower()"
      ],
      "execution_count": 0,
      "outputs": []
    },
    {
      "cell_type": "code",
      "metadata": {
        "id": "uMNoHuX72qCK",
        "colab_type": "code",
        "outputId": "642384e8-953b-4422-d11b-02308c4fdcce",
        "colab": {
          "base_uri": "https://localhost:8080/",
          "height": 106
        }
      },
      "source": [
        "yelp_data.head(2)"
      ],
      "execution_count": 0,
      "outputs": [
        {
          "output_type": "execute_result",
          "data": {
            "text/html": [
              "<div>\n",
              "<style scoped>\n",
              "    .dataframe tbody tr th:only-of-type {\n",
              "        vertical-align: middle;\n",
              "    }\n",
              "\n",
              "    .dataframe tbody tr th {\n",
              "        vertical-align: top;\n",
              "    }\n",
              "\n",
              "    .dataframe thead th {\n",
              "        text-align: right;\n",
              "    }\n",
              "</style>\n",
              "<table border=\"1\" class=\"dataframe\">\n",
              "  <thead>\n",
              "    <tr style=\"text-align: right;\">\n",
              "      <th></th>\n",
              "      <th>Unnamed: 0</th>\n",
              "      <th>categories</th>\n",
              "      <th>business_id</th>\n",
              "      <th>city</th>\n",
              "      <th>user_id</th>\n",
              "      <th>stars</th>\n",
              "      <th>text</th>\n",
              "    </tr>\n",
              "  </thead>\n",
              "  <tbody>\n",
              "    <tr>\n",
              "      <th>0</th>\n",
              "      <td>0</td>\n",
              "      <td>Specialty Food, Restaurants, Dim Sum, Imported...</td>\n",
              "      <td>QXAEGFB4oINsVuTFxEYKFQ</td>\n",
              "      <td>ranchi</td>\n",
              "      <td>2K62MJ4CJ19L8Tp5pRfjfQ</td>\n",
              "      <td>3</td>\n",
              "      <td>My girlfriend and I went for dinner at Emerald...</td>\n",
              "    </tr>\n",
              "    <tr>\n",
              "      <th>1</th>\n",
              "      <td>1</td>\n",
              "      <td>Specialty Food, Restaurants, Dim Sum, Imported...</td>\n",
              "      <td>QXAEGFB4oINsVuTFxEYKFQ</td>\n",
              "      <td>ranchi</td>\n",
              "      <td>A0kENtCCoVT3m7T35zb2Vg</td>\n",
              "      <td>3</td>\n",
              "      <td>We've always been there on a Sunday so we were...</td>\n",
              "    </tr>\n",
              "  </tbody>\n",
              "</table>\n",
              "</div>"
            ],
            "text/plain": [
              "   Unnamed: 0  ...                                               text\n",
              "0           0  ...  My girlfriend and I went for dinner at Emerald...\n",
              "1           1  ...  We've always been there on a Sunday so we were...\n",
              "\n",
              "[2 rows x 7 columns]"
            ]
          },
          "metadata": {
            "tags": []
          },
          "execution_count": 13
        }
      ]
    },
    {
      "cell_type": "code",
      "metadata": {
        "id": "Rp8lGml_n-18",
        "colab_type": "code",
        "colab": {}
      },
      "source": [
        "\n",
        "# yelp_data['city']=yelp_data['city'].astype(object)"
      ],
      "execution_count": 0,
      "outputs": []
    },
    {
      "cell_type": "code",
      "metadata": {
        "id": "7wUXONBveMvk",
        "colab_type": "code",
        "outputId": "c2a185c5-54c3-43fb-b4d6-771b7681e22e",
        "colab": {
          "base_uri": "https://localhost:8080/",
          "height": 218
        }
      },
      "source": [
        "yelp_data.info()"
      ],
      "execution_count": 0,
      "outputs": [
        {
          "output_type": "stream",
          "text": [
            "<class 'pandas.core.frame.DataFrame'>\n",
            "Int64Index: 43160 entries, 0 to 43159\n",
            "Data columns (total 7 columns):\n",
            "Unnamed: 0     43160 non-null int64\n",
            "categories     43160 non-null object\n",
            "business_id    43160 non-null object\n",
            "city           43160 non-null object\n",
            "user_id        43160 non-null object\n",
            "stars          43160 non-null int64\n",
            "text           43160 non-null object\n",
            "dtypes: int64(2), object(5)\n",
            "memory usage: 2.6+ MB\n"
          ],
          "name": "stdout"
        }
      ]
    },
    {
      "cell_type": "code",
      "metadata": {
        "id": "Uhj2uAWJ8BvB",
        "colab_type": "code",
        "outputId": "70ba71ad-7be6-4897-dc69-a9aa07754c9f",
        "colab": {
          "base_uri": "https://localhost:8080/",
          "height": 67
        }
      },
      "source": [
        "import nltk\n",
        "nltk.download('stopwords')"
      ],
      "execution_count": 0,
      "outputs": [
        {
          "output_type": "stream",
          "text": [
            "[nltk_data] Downloading package stopwords to /root/nltk_data...\n",
            "[nltk_data]   Unzipping corpora/stopwords.zip.\n"
          ],
          "name": "stdout"
        },
        {
          "output_type": "execute_result",
          "data": {
            "text/plain": [
              "True"
            ]
          },
          "metadata": {
            "tags": []
          },
          "execution_count": 16
        }
      ]
    },
    {
      "cell_type": "code",
      "metadata": {
        "id": "h1NkXE8O4aJ6",
        "colab_type": "code",
        "colab": {}
      },
      "source": [
        "import string\n",
        "from nltk.corpus import stopwords\n",
        "stop = []\n",
        "for word in stopwords.words('english'):\n",
        "    s = [char for char in word if char not in string.punctuation]\n",
        "    stop.append(''.join(s))"
      ],
      "execution_count": 0,
      "outputs": []
    },
    {
      "cell_type": "code",
      "metadata": {
        "id": "ZnzV-Wzw7xlB",
        "colab_type": "code",
        "colab": {}
      },
      "source": [
        "def text_process(mess):                                                                                                                                                                                                                                                                              \n",
        "  \n",
        "    # Check characters to see if they are in punctuation\n",
        "    nopunc = [char for char in mess if char not in string.punctuation]                #  remove  (!\"#$%&'()*+, -./:;<=>?@[\\]^_`{|}~) if any\n",
        "\n",
        "    nopunc = ''.join(nopunc)                                                         # Join the characters again to form the string.\n",
        "    \n",
        "    return \" \".join([word for word in nopunc.split() if word.lower() not in stop])          # Now just remove any stopwords in text and return the processed text."
      ],
      "execution_count": 0,
      "outputs": []
    },
    {
      "cell_type": "code",
      "metadata": {
        "id": "Wg44G8d17xiq",
        "colab_type": "code",
        "colab": {}
      },
      "source": [
        "yelp_data['text'] = yelp_data['text'].apply(text_process)"
      ],
      "execution_count": 0,
      "outputs": []
    },
    {
      "cell_type": "code",
      "metadata": {
        "id": "gUTszIwpalAu",
        "colab_type": "code",
        "colab": {}
      },
      "source": [
        "yelp_data =yelp_data.sample(frac=1).reset_index(drop=True)  # for sampling the dataset"
      ],
      "execution_count": 0,
      "outputs": []
    },
    {
      "cell_type": "code",
      "metadata": {
        "id": "-h7bP5Xlkn_p",
        "colab_type": "code",
        "outputId": "566b0a22-cbda-4ea2-eb27-4d4b777b2355",
        "colab": {
          "base_uri": "https://localhost:8080/",
          "height": 67
        }
      },
      "source": [
        "yelp_data['city'].unique()"
      ],
      "execution_count": 0,
      "outputs": [
        {
          "output_type": "execute_result",
          "data": {
            "text/plain": [
              "array(['Mumbai', 'Chennai', 'Cuddapah', 'Car Nicobar', 'Kochi',\n",
              "       'Cooch Behar', 'Guwahati', 'Aurangabad', 'Ranchi', 'Chandigarh'],\n",
              "      dtype=object)"
            ]
          },
          "metadata": {
            "tags": []
          },
          "execution_count": 16
        }
      ]
    },
    {
      "cell_type": "code",
      "metadata": {
        "id": "IpcPjR3Gauom",
        "colab_type": "code",
        "outputId": "cfbf15a6-f1ed-4def-dd50-736c8dcc93ab",
        "colab": {
          "base_uri": "https://localhost:8080/",
          "height": 195
        }
      },
      "source": [
        "yelp_data.head()"
      ],
      "execution_count": 0,
      "outputs": [
        {
          "output_type": "execute_result",
          "data": {
            "text/html": [
              "<div>\n",
              "<style scoped>\n",
              "    .dataframe tbody tr th:only-of-type {\n",
              "        vertical-align: middle;\n",
              "    }\n",
              "\n",
              "    .dataframe tbody tr th {\n",
              "        vertical-align: top;\n",
              "    }\n",
              "\n",
              "    .dataframe thead th {\n",
              "        text-align: right;\n",
              "    }\n",
              "</style>\n",
              "<table border=\"1\" class=\"dataframe\">\n",
              "  <thead>\n",
              "    <tr style=\"text-align: right;\">\n",
              "      <th></th>\n",
              "      <th>Unnamed: 0</th>\n",
              "      <th>categories</th>\n",
              "      <th>business_id</th>\n",
              "      <th>city</th>\n",
              "      <th>user_id</th>\n",
              "      <th>stars</th>\n",
              "      <th>text</th>\n",
              "    </tr>\n",
              "  </thead>\n",
              "  <tbody>\n",
              "    <tr>\n",
              "      <th>0</th>\n",
              "      <td>108905</td>\n",
              "      <td>Restaurants, Asian Fusion, Sushi Bars, Japanese</td>\n",
              "      <td>Yiw2jUJzUdFmglHZgj4RaQ</td>\n",
              "      <td>Mumbai</td>\n",
              "      <td>zyMB50UtmEuQf-1VUKxZxQ</td>\n",
              "      <td>4</td>\n",
              "      <td>Good food reasonable price actually enjoyed ch...</td>\n",
              "    </tr>\n",
              "    <tr>\n",
              "      <th>1</th>\n",
              "      <td>11784</td>\n",
              "      <td>Vietnamese, Restaurants</td>\n",
              "      <td>AMN3Sgns9tB2x-b3eWk0qQ</td>\n",
              "      <td>Chennai</td>\n",
              "      <td>xovKY9oB8s-NjKz_I1RpHQ</td>\n",
              "      <td>3</td>\n",
              "      <td>looking authentic Vietnamese Scottsdale go cra...</td>\n",
              "    </tr>\n",
              "    <tr>\n",
              "      <th>2</th>\n",
              "      <td>61122</td>\n",
              "      <td>Sandwiches, Fast Food, Salad, Restaurants, Chi...</td>\n",
              "      <td>C2T7ecxqsVu99PhSqT3c3g</td>\n",
              "      <td>Cuddapah</td>\n",
              "      <td>lX_j1NZA0xpJ9E1tu7SsIQ</td>\n",
              "      <td>4</td>\n",
              "      <td>tried salads first time pretty good get fried ...</td>\n",
              "    </tr>\n",
              "    <tr>\n",
              "      <th>3</th>\n",
              "      <td>50464</td>\n",
              "      <td>Asian Fusion, Vegetarian, Vegan, Mexican, Rest...</td>\n",
              "      <td>a9aW5e731lplWGHUZ02-zQ</td>\n",
              "      <td>Car Nicobar</td>\n",
              "      <td>fCy0RLrVg6xyhaNRpZtBIA</td>\n",
              "      <td>5</td>\n",
              "      <td>liked original location location even better L...</td>\n",
              "    </tr>\n",
              "    <tr>\n",
              "      <th>4</th>\n",
              "      <td>52228</td>\n",
              "      <td>Middle Eastern, Restaurants, Mediterranean, Pe...</td>\n",
              "      <td>Er2XAYN8l1BadlYFwiPb9g</td>\n",
              "      <td>Mumbai</td>\n",
              "      <td>kNzzteRJy5jBOX8rM_uJOA</td>\n",
              "      <td>5</td>\n",
              "      <td>mood try something different thought wed stop ...</td>\n",
              "    </tr>\n",
              "  </tbody>\n",
              "</table>\n",
              "</div>"
            ],
            "text/plain": [
              "   Unnamed: 0  ...                                               text\n",
              "0      108905  ...  Good food reasonable price actually enjoyed ch...\n",
              "1       11784  ...  looking authentic Vietnamese Scottsdale go cra...\n",
              "2       61122  ...  tried salads first time pretty good get fried ...\n",
              "3       50464  ...  liked original location location even better L...\n",
              "4       52228  ...  mood try something different thought wed stop ...\n",
              "\n",
              "[5 rows x 7 columns]"
            ]
          },
          "metadata": {
            "tags": []
          },
          "execution_count": 17
        }
      ]
    },
    {
      "cell_type": "code",
      "metadata": {
        "id": "58A6e8FYa1WC",
        "colab_type": "code",
        "colab": {}
      },
      "source": [
        "yelp_data_test=yelp_data[:1000]"
      ],
      "execution_count": 0,
      "outputs": []
    },
    {
      "cell_type": "code",
      "metadata": {
        "id": "JBJENBRCa84m",
        "colab_type": "code",
        "colab": {}
      },
      "source": [
        "yelp_data=yelp_data[1000:]"
      ],
      "execution_count": 0,
      "outputs": []
    },
    {
      "cell_type": "code",
      "metadata": {
        "id": "pQRfAFaSbC6A",
        "colab_type": "code",
        "outputId": "09070c79-93aa-4b3e-b081-1bc6a9ccb77b",
        "colab": {
          "base_uri": "https://localhost:8080/",
          "height": 34
        }
      },
      "source": [
        "yelp_data.shape"
      ],
      "execution_count": 0,
      "outputs": [
        {
          "output_type": "execute_result",
          "data": {
            "text/plain": [
              "(42160, 7)"
            ]
          },
          "metadata": {
            "tags": []
          },
          "execution_count": 20
        }
      ]
    },
    {
      "cell_type": "code",
      "metadata": {
        "id": "9OcKuTQdj8q7",
        "colab_type": "code",
        "colab": {}
      },
      "source": [
        "# yelp_data.to_csv('final_yelp_data.csv')"
      ],
      "execution_count": 0,
      "outputs": []
    },
    {
      "cell_type": "code",
      "metadata": {
        "id": "FE7vDHM17xae",
        "colab_type": "code",
        "colab": {}
      },
      "source": [
        "userid_df = yelp_data[['user_id','text']]\n",
        "business_df = yelp_data[['business_id', 'text']]"
      ],
      "execution_count": 0,
      "outputs": []
    },
    {
      "cell_type": "code",
      "metadata": {
        "id": "Hiwre0zKxcY9",
        "colab_type": "code",
        "outputId": "c586c644-caa1-4476-f4f9-6a596a626f69",
        "colab": {
          "base_uri": "https://localhost:8080/",
          "height": 402
        }
      },
      "source": [
        "userid_df"
      ],
      "execution_count": 0,
      "outputs": [
        {
          "output_type": "execute_result",
          "data": {
            "text/html": [
              "<div>\n",
              "<style scoped>\n",
              "    .dataframe tbody tr th:only-of-type {\n",
              "        vertical-align: middle;\n",
              "    }\n",
              "\n",
              "    .dataframe tbody tr th {\n",
              "        vertical-align: top;\n",
              "    }\n",
              "\n",
              "    .dataframe thead th {\n",
              "        text-align: right;\n",
              "    }\n",
              "</style>\n",
              "<table border=\"1\" class=\"dataframe\">\n",
              "  <thead>\n",
              "    <tr style=\"text-align: right;\">\n",
              "      <th></th>\n",
              "      <th>user_id</th>\n",
              "      <th>text</th>\n",
              "    </tr>\n",
              "  </thead>\n",
              "  <tbody>\n",
              "    <tr>\n",
              "      <th>1000</th>\n",
              "      <td>Wxd-EKF2Z4RHZUmwQ6Eeew</td>\n",
              "      <td>frozen hot chocolate double chocolate flavor s...</td>\n",
              "    </tr>\n",
              "    <tr>\n",
              "      <th>1001</th>\n",
              "      <td>KE3fPgfxEmfsutKxMlssvQ</td>\n",
              "      <td>Mrs love place Owner super friendly service al...</td>\n",
              "    </tr>\n",
              "    <tr>\n",
              "      <th>1002</th>\n",
              "      <td>1V5tTGQbhaCBbmH-EVT7KQ</td>\n",
              "      <td>definitely fan food good service quick friendl...</td>\n",
              "    </tr>\n",
              "    <tr>\n",
              "      <th>1003</th>\n",
              "      <td>-50XWnmQGqBgEI-9ANvLlg</td>\n",
              "      <td>review month overdue Experience Came group fol...</td>\n",
              "    </tr>\n",
              "    <tr>\n",
              "      <th>1004</th>\n",
              "      <td>QuZbJquRtbY9O9JrB9NpxQ</td>\n",
              "      <td>Tandoori Times Volume 1 Issue 1 Number 1 Limit...</td>\n",
              "    </tr>\n",
              "    <tr>\n",
              "      <th>...</th>\n",
              "      <td>...</td>\n",
              "      <td>...</td>\n",
              "    </tr>\n",
              "    <tr>\n",
              "      <th>43155</th>\n",
              "      <td>C5HjsWQz-Algu8ej8DnjSA</td>\n",
              "      <td>Ive come many time following first reviewevery...</td>\n",
              "    </tr>\n",
              "    <tr>\n",
              "      <th>43156</th>\n",
              "      <td>ZQ3fwa4MIzJtkzQ1Kmc-sA</td>\n",
              "      <td>ordered Blackberry Sage Tea Latte Almond Milk ...</td>\n",
              "    </tr>\n",
              "    <tr>\n",
              "      <th>43157</th>\n",
              "      <td>zcmCg2nsT0pBinXiVEA5Wg</td>\n",
              "      <td>pretty decent meal prices reasonable strip Cap...</td>\n",
              "    </tr>\n",
              "    <tr>\n",
              "      <th>43158</th>\n",
              "      <td>KcjLcdus-XWt6E9uJeHONA</td>\n",
              "      <td>place awesome actually looking place served bo...</td>\n",
              "    </tr>\n",
              "    <tr>\n",
              "      <th>43159</th>\n",
              "      <td>QIy3iLXjBUBqRzwd2lnWGQ</td>\n",
              "      <td>would actually give 35 stars possible restaura...</td>\n",
              "    </tr>\n",
              "  </tbody>\n",
              "</table>\n",
              "<p>42160 rows × 2 columns</p>\n",
              "</div>"
            ],
            "text/plain": [
              "                      user_id                                               text\n",
              "1000   Wxd-EKF2Z4RHZUmwQ6Eeew  frozen hot chocolate double chocolate flavor s...\n",
              "1001   KE3fPgfxEmfsutKxMlssvQ  Mrs love place Owner super friendly service al...\n",
              "1002   1V5tTGQbhaCBbmH-EVT7KQ  definitely fan food good service quick friendl...\n",
              "1003   -50XWnmQGqBgEI-9ANvLlg  review month overdue Experience Came group fol...\n",
              "1004   QuZbJquRtbY9O9JrB9NpxQ  Tandoori Times Volume 1 Issue 1 Number 1 Limit...\n",
              "...                       ...                                                ...\n",
              "43155  C5HjsWQz-Algu8ej8DnjSA  Ive come many time following first reviewevery...\n",
              "43156  ZQ3fwa4MIzJtkzQ1Kmc-sA  ordered Blackberry Sage Tea Latte Almond Milk ...\n",
              "43157  zcmCg2nsT0pBinXiVEA5Wg  pretty decent meal prices reasonable strip Cap...\n",
              "43158  KcjLcdus-XWt6E9uJeHONA  place awesome actually looking place served bo...\n",
              "43159  QIy3iLXjBUBqRzwd2lnWGQ  would actually give 35 stars possible restaura...\n",
              "\n",
              "[42160 rows x 2 columns]"
            ]
          },
          "metadata": {
            "tags": []
          },
          "execution_count": 23
        }
      ]
    },
    {
      "cell_type": "code",
      "metadata": {
        "id": "SvEg_Ygc9SBi",
        "colab_type": "code",
        "colab": {}
      },
      "source": [
        "userid_df = userid_df.groupby('user_id').agg({'text': ' '.join})\n",
        "business_df = business_df.groupby('business_id').agg({'text': ' '.join})"
      ],
      "execution_count": 0,
      "outputs": []
    },
    {
      "cell_type": "code",
      "metadata": {
        "id": "HgFUVb95Upc6",
        "colab_type": "code",
        "colab": {}
      },
      "source": [
        "# import pickle\n",
        "# output = open('user_business_df.pkl', 'wb')\n",
        "# pickle.dump(userid_df,output,protocol=2)\n",
        "# pickle.dump(business_df,output,protocol=2)\n",
        "# output.close()"
      ],
      "execution_count": 0,
      "outputs": []
    },
    {
      "cell_type": "code",
      "metadata": {
        "id": "J61qME1O9R_V",
        "colab_type": "code",
        "colab": {}
      },
      "source": [
        "from sklearn.feature_extraction.text import TfidfVectorizer"
      ],
      "execution_count": 0,
      "outputs": []
    },
    {
      "cell_type": "markdown",
      "metadata": {
        "id": "KI-9jQgEg3MX",
        "colab_type": "text"
      },
      "source": [
        ""
      ]
    },
    {
      "cell_type": "markdown",
      "metadata": {
        "id": "ipukUDizg3IS",
        "colab_type": "text"
      },
      "source": [
        ""
      ]
    },
    {
      "cell_type": "code",
      "metadata": {
        "id": "ul6NNVLjLET5",
        "colab_type": "code",
        "colab": {}
      },
      "source": [
        "vectorizer=TfidfVectorizer(tokenizer = WordPunctTokenizer().tokenize)"
      ],
      "execution_count": 0,
      "outputs": []
    },
    {
      "cell_type": "code",
      "metadata": {
        "id": "jyOJYqdVLQk2",
        "colab_type": "code",
        "colab": {}
      },
      "source": [
        "X=vectorizer.fit_transform(userid_df['text'])"
      ],
      "execution_count": 0,
      "outputs": []
    },
    {
      "cell_type": "code",
      "metadata": {
        "id": "X-N8kWlWLQTs",
        "colab_type": "code",
        "outputId": "f2426687-8365-4530-c4c3-2389ebb761e1",
        "colab": {
          "base_uri": "https://localhost:8080/",
          "height": 34
        }
      },
      "source": [
        "print(len(vectorizer.get_feature_names()))"
      ],
      "execution_count": 0,
      "outputs": [
        {
          "output_type": "stream",
          "text": [
            "72294\n"
          ],
          "name": "stdout"
        }
      ]
    },
    {
      "cell_type": "code",
      "metadata": {
        "id": "WXqViejIk0ry",
        "colab_type": "code",
        "colab": {}
      },
      "source": [
        "sentence=[' '.join(userid_df['text'])]"
      ],
      "execution_count": 0,
      "outputs": []
    },
    {
      "cell_type": "code",
      "metadata": {
        "id": "opB2KbWRlJ2o",
        "colab_type": "code",
        "outputId": "5699cd0c-6109-4f4f-fea8-70852f29e0f1",
        "colab": {
          "base_uri": "https://localhost:8080/",
          "height": 34
        }
      },
      "source": [
        "len(sentence)"
      ],
      "execution_count": 0,
      "outputs": [
        {
          "output_type": "execute_result",
          "data": {
            "text/plain": [
              "1"
            ]
          },
          "metadata": {
            "tags": []
          },
          "execution_count": 31
        }
      ]
    },
    {
      "cell_type": "code",
      "metadata": {
        "id": "2UXnuNV2isTz",
        "colab_type": "code",
        "colab": {}
      },
      "source": [
        "wordlist=sentence[0].split()"
      ],
      "execution_count": 0,
      "outputs": []
    },
    {
      "cell_type": "code",
      "metadata": {
        "id": "sV0GKNy_lcI3",
        "colab_type": "code",
        "colab": {}
      },
      "source": [
        "wordfreq=[]\n",
        "for w in wordlist:\n",
        "  wordfreq.append(wordlist.count(w))"
      ],
      "execution_count": 0,
      "outputs": []
    },
    {
      "cell_type": "code",
      "metadata": {
        "id": "5pPkZ1gNnxVY",
        "colab_type": "code",
        "colab": {}
      },
      "source": [
        ""
      ],
      "execution_count": 0,
      "outputs": []
    },
    {
      "cell_type": "code",
      "metadata": {
        "id": "XyYou8IcmSW7",
        "colab_type": "code",
        "colab": {}
      },
      "source": [
        ""
      ],
      "execution_count": 0,
      "outputs": []
    },
    {
      "cell_type": "markdown",
      "metadata": {
        "id": "9uH9YSy4g8im",
        "colab_type": "text"
      },
      "source": [
        ""
      ]
    },
    {
      "cell_type": "code",
      "metadata": {
        "id": "-NFs65qbUI_4",
        "colab_type": "code",
        "colab": {}
      },
      "source": [
        "userid_vectorizer = TfidfVectorizer(tokenizer = WordPunctTokenizer().tokenize, max_features=3200)"
      ],
      "execution_count": 0,
      "outputs": []
    },
    {
      "cell_type": "code",
      "metadata": {
        "id": "Zy_TLAEh9R9K",
        "colab_type": "code",
        "outputId": "77f3e812-2d9c-417d-970b-29895a53bc1c",
        "colab": {
          "base_uri": "https://localhost:8080/",
          "height": 34
        }
      },
      "source": [
        "userid_vectors = userid_vectorizer.fit_transform(userid_df['text'])\n",
        "userid_vectors.shape"
      ],
      "execution_count": 0,
      "outputs": [
        {
          "output_type": "execute_result",
          "data": {
            "text/plain": [
              "(14798, 3200)"
            ]
          },
          "metadata": {
            "tags": []
          },
          "execution_count": 35
        }
      ]
    },
    {
      "cell_type": "code",
      "metadata": {
        "id": "iVLHoWLzULay",
        "colab_type": "code",
        "colab": {}
      },
      "source": [
        "#Business id vectorizer\n",
        "businessid_vectorizer = TfidfVectorizer(tokenizer = WordPunctTokenizer().tokenize, max_features=3200)"
      ],
      "execution_count": 0,
      "outputs": []
    },
    {
      "cell_type": "code",
      "metadata": {
        "id": "WueA-9nC9R6j",
        "colab_type": "code",
        "outputId": "1a147f61-1af9-453b-e173-0b544343b7ba",
        "colab": {
          "base_uri": "https://localhost:8080/",
          "height": 34
        }
      },
      "source": [
        "businessid_vectors = businessid_vectorizer.fit_transform(business_df['text'])\n",
        "businessid_vectors.shape"
      ],
      "execution_count": 0,
      "outputs": [
        {
          "output_type": "execute_result",
          "data": {
            "text/plain": [
              "(1866, 3200)"
            ]
          },
          "metadata": {
            "tags": []
          },
          "execution_count": 37
        }
      ]
    },
    {
      "cell_type": "code",
      "metadata": {
        "id": "rm_VNEenPxEZ",
        "colab_type": "code",
        "colab": {}
      },
      "source": [
        ""
      ],
      "execution_count": 0,
      "outputs": []
    },
    {
      "cell_type": "code",
      "metadata": {
        "id": "GipwUyd6EX7z",
        "colab_type": "code",
        "outputId": "a68e8253-ea74-4875-f1fa-8d79b8e80f15",
        "colab": {
          "base_uri": "https://localhost:8080/",
          "height": 67
        }
      },
      "source": [
        "yelp_data.columns"
      ],
      "execution_count": 0,
      "outputs": [
        {
          "output_type": "execute_result",
          "data": {
            "text/plain": [
              "Index(['Unnamed: 0', 'categories', 'business_id', 'city', 'user_id', 'stars',\n",
              "       'text'],\n",
              "      dtype='object')"
            ]
          },
          "metadata": {
            "tags": []
          },
          "execution_count": 42
        }
      ]
    },
    {
      "cell_type": "code",
      "metadata": {
        "id": "BZ3vZv9k9R0O",
        "colab_type": "code",
        "outputId": "6b845dcf-2215-4e3b-a5b2-5ed3a0a3e92d",
        "colab": {
          "base_uri": "https://localhost:8080/",
          "height": 518
        }
      },
      "source": [
        "userid_rating_matrix = pd.pivot_table(yelp_data, values='stars', index=['user_id'], columns=['business_id'])\n",
        "userid_rating_matrix "
      ],
      "execution_count": 0,
      "outputs": [
        {
          "output_type": "execute_result",
          "data": {
            "text/html": [
              "<div>\n",
              "<style scoped>\n",
              "    .dataframe tbody tr th:only-of-type {\n",
              "        vertical-align: middle;\n",
              "    }\n",
              "\n",
              "    .dataframe tbody tr th {\n",
              "        vertical-align: top;\n",
              "    }\n",
              "\n",
              "    .dataframe thead th {\n",
              "        text-align: right;\n",
              "    }\n",
              "</style>\n",
              "<table border=\"1\" class=\"dataframe\">\n",
              "  <thead>\n",
              "    <tr style=\"text-align: right;\">\n",
              "      <th>business_id</th>\n",
              "      <th>-1xuC540Nycht_iWFeJ-dw</th>\n",
              "      <th>-K4gAv8_vjx8-2BxkVeRkA</th>\n",
              "      <th>-R2z2womJA-NCA2Pbz181g</th>\n",
              "      <th>0-jqS5y4D-6Zohb3Q375ZQ</th>\n",
              "      <th>02eESJZNF3qigrJ3GNRgIQ</th>\n",
              "      <th>036SeqOKaKx89Liw5RDKqA</th>\n",
              "      <th>06Agn-DDxhc1A1u935l93Q</th>\n",
              "      <th>096iGHoQ-UImxUExuyqlZA</th>\n",
              "      <th>09pf_DnQV5Y5y2reoIPXlw</th>\n",
              "      <th>09pjh8dL9AavSLHkdKT4VQ</th>\n",
              "      <th>0DapwcHS0YWNeHKptURSCA</th>\n",
              "      <th>0FVOh4aVtEBR_N5XwBNLRw</th>\n",
              "      <th>0G83H_zoum-Q4bWU2olTqQ</th>\n",
              "      <th>0IfrcGbFzQvn9w8bl9GKDg</th>\n",
              "      <th>0LPVkxZ-Ab9Jx6_ytA-Yew</th>\n",
              "      <th>0NRW_aZUWvDsjh58fBq8OA</th>\n",
              "      <th>0P9PCKJBC3TY9Ifcw4Y7Mw</th>\n",
              "      <th>0TRFt-MVF43hGP8YD7O2sw</th>\n",
              "      <th>0VDcJitRHh5uJnkjymu_6A</th>\n",
              "      <th>0WAL6O1YvcJbeDRYeRm34w</th>\n",
              "      <th>0W_6DPifCQwGU5N_LaiE9g</th>\n",
              "      <th>0ZN2MfHyjNIkCx7qJvVhDg</th>\n",
              "      <th>0cDKiKwsE6NAlfhx-cAWkA</th>\n",
              "      <th>0gTTGuA6uEmMhLhfJi0hqA</th>\n",
              "      <th>0i95sgY7pzYW9k88SOVJ8A</th>\n",
              "      <th>0jRcmkgwrjsPtDOeqLJweg</th>\n",
              "      <th>0kKtYDKvvcQckR4vRmfh5Q</th>\n",
              "      <th>0lFAD4CuWcQVl9u3-lRaCQ</th>\n",
              "      <th>0lUhcajLmtq3H4h9xiiabQ</th>\n",
              "      <th>0lm2kI7hkRKOYQKeYr3Pxg</th>\n",
              "      <th>0n2us6pzfJ4UK9qy1NWYOg</th>\n",
              "      <th>0nquGuiW0SONs3R89gSi1Q</th>\n",
              "      <th>0pm-hpu8Rkfa16tLjWb-GQ</th>\n",
              "      <th>0rN_o7_IfshAHQwzMUK8nA</th>\n",
              "      <th>0sE5o_dunOdUMvXVsaJSsA</th>\n",
              "      <th>0tMhUM4FJy-onBd8ppUDng</th>\n",
              "      <th>0txNpCq2YunZSL7jHIiGlA</th>\n",
              "      <th>0u4Lmqi2hPCwwxJMbA7-ng</th>\n",
              "      <th>0yHY4FHCTOIshPiPc9EYBQ</th>\n",
              "      <th>108H_8aEgOH5uz_C9hBgUQ</th>\n",
              "      <th>...</th>\n",
              "      <th>yPIHOfXNz4LNTWFjCTFWgA</th>\n",
              "      <th>yPzcnXlZ4VfCqPrXgwbS9A</th>\n",
              "      <th>yW9IIc1cBIlFlbOG_1pp_Q</th>\n",
              "      <th>yWwIUmeenyAO7nwc7U0U5A</th>\n",
              "      <th>yYkvonvBGZB6UMnpzr6Ryw</th>\n",
              "      <th>yae3VHS39BBaLGBUn94sHQ</th>\n",
              "      <th>yb7ZtgMWSZboG_sSUx9g2A</th>\n",
              "      <th>yc7ukSQi61NMXYIyHyobgQ</th>\n",
              "      <th>ydoXmW_5p_MgyoWs-dEK8Q</th>\n",
              "      <th>yex6vCCeLKsnWiNW5aGrLA</th>\n",
              "      <th>ygLcYFoKRP3PcUXcDKnz0w</th>\n",
              "      <th>yhT2iTPtvQttZxYS9cNF0A</th>\n",
              "      <th>ylC66QZbG0lQbggJFQYaqw</th>\n",
              "      <th>ynbbMfhYHJ3a1Oa70Gibig</th>\n",
              "      <th>ypMf1Ma5b-WoiVmT22deoA</th>\n",
              "      <th>ysfeDcLAYk_MVzfBmyiSTg</th>\n",
              "      <th>yt1C94WXeUokPsjyqWWaiQ</th>\n",
              "      <th>yuhnMOLGmXHhQxyp1V_rBw</th>\n",
              "      <th>yvqMh9kTv3Kx-tocc0DFBQ</th>\n",
              "      <th>yxAw_NtCqtvFPXGq4C1f5A</th>\n",
              "      <th>z0DImJOdVrSF8BmgmeMy5g</th>\n",
              "      <th>z1RYEzRQzhBKw0Pez3xSHA</th>\n",
              "      <th>z2LzzuzC8BjQcojQjd4tDQ</th>\n",
              "      <th>z3csSfd-UBMP1Gk6zHY_AA</th>\n",
              "      <th>z4CYPDxL_L74GnaD35a9Yw</th>\n",
              "      <th>z8H4Mdzl4jS9pYswj6Jf9w</th>\n",
              "      <th>zElnVlq5To9UoNw4KmoYWQ</th>\n",
              "      <th>zKSKmkBxfrltJau_4s1ZHA</th>\n",
              "      <th>zLHOG9ty0OcXSQ6iy2BwwA</th>\n",
              "      <th>zPAMOTc_VEfgPxseUtWw-w</th>\n",
              "      <th>zUHIDqm_UKdnSygmWKtyRg</th>\n",
              "      <th>zVvekQAUjhZpys3xzcCGaA</th>\n",
              "      <th>zYzYmPLViy5Q6u7rmL8AYA</th>\n",
              "      <th>z_BS6qapXMX1fA4ZLZ3jCA</th>\n",
              "      <th>zfNKdsuT7bWWN-f3v5Rj_g</th>\n",
              "      <th>zfOum9_rEhaLAqoAV3nYaQ</th>\n",
              "      <th>zgAh21YWYaZUSEGi_E5SVg</th>\n",
              "      <th>zgtgMlvFk5Ilrs1yj78tdA</th>\n",
              "      <th>zkk1ieQQnWtu9TLJukXC0g</th>\n",
              "      <th>zzwhN7x37nyjP0ZM8oiHmw</th>\n",
              "    </tr>\n",
              "    <tr>\n",
              "      <th>user_id</th>\n",
              "      <th></th>\n",
              "      <th></th>\n",
              "      <th></th>\n",
              "      <th></th>\n",
              "      <th></th>\n",
              "      <th></th>\n",
              "      <th></th>\n",
              "      <th></th>\n",
              "      <th></th>\n",
              "      <th></th>\n",
              "      <th></th>\n",
              "      <th></th>\n",
              "      <th></th>\n",
              "      <th></th>\n",
              "      <th></th>\n",
              "      <th></th>\n",
              "      <th></th>\n",
              "      <th></th>\n",
              "      <th></th>\n",
              "      <th></th>\n",
              "      <th></th>\n",
              "      <th></th>\n",
              "      <th></th>\n",
              "      <th></th>\n",
              "      <th></th>\n",
              "      <th></th>\n",
              "      <th></th>\n",
              "      <th></th>\n",
              "      <th></th>\n",
              "      <th></th>\n",
              "      <th></th>\n",
              "      <th></th>\n",
              "      <th></th>\n",
              "      <th></th>\n",
              "      <th></th>\n",
              "      <th></th>\n",
              "      <th></th>\n",
              "      <th></th>\n",
              "      <th></th>\n",
              "      <th></th>\n",
              "      <th></th>\n",
              "      <th></th>\n",
              "      <th></th>\n",
              "      <th></th>\n",
              "      <th></th>\n",
              "      <th></th>\n",
              "      <th></th>\n",
              "      <th></th>\n",
              "      <th></th>\n",
              "      <th></th>\n",
              "      <th></th>\n",
              "      <th></th>\n",
              "      <th></th>\n",
              "      <th></th>\n",
              "      <th></th>\n",
              "      <th></th>\n",
              "      <th></th>\n",
              "      <th></th>\n",
              "      <th></th>\n",
              "      <th></th>\n",
              "      <th></th>\n",
              "      <th></th>\n",
              "      <th></th>\n",
              "      <th></th>\n",
              "      <th></th>\n",
              "      <th></th>\n",
              "      <th></th>\n",
              "      <th></th>\n",
              "      <th></th>\n",
              "      <th></th>\n",
              "      <th></th>\n",
              "      <th></th>\n",
              "      <th></th>\n",
              "      <th></th>\n",
              "      <th></th>\n",
              "      <th></th>\n",
              "      <th></th>\n",
              "      <th></th>\n",
              "      <th></th>\n",
              "      <th></th>\n",
              "      <th></th>\n",
              "    </tr>\n",
              "  </thead>\n",
              "  <tbody>\n",
              "    <tr>\n",
              "      <th>--2HUmLkcNHZp0xw6AMBPg</th>\n",
              "      <td>NaN</td>\n",
              "      <td>NaN</td>\n",
              "      <td>NaN</td>\n",
              "      <td>NaN</td>\n",
              "      <td>NaN</td>\n",
              "      <td>NaN</td>\n",
              "      <td>NaN</td>\n",
              "      <td>NaN</td>\n",
              "      <td>NaN</td>\n",
              "      <td>NaN</td>\n",
              "      <td>NaN</td>\n",
              "      <td>NaN</td>\n",
              "      <td>NaN</td>\n",
              "      <td>NaN</td>\n",
              "      <td>NaN</td>\n",
              "      <td>NaN</td>\n",
              "      <td>NaN</td>\n",
              "      <td>NaN</td>\n",
              "      <td>NaN</td>\n",
              "      <td>NaN</td>\n",
              "      <td>NaN</td>\n",
              "      <td>NaN</td>\n",
              "      <td>NaN</td>\n",
              "      <td>NaN</td>\n",
              "      <td>NaN</td>\n",
              "      <td>NaN</td>\n",
              "      <td>NaN</td>\n",
              "      <td>NaN</td>\n",
              "      <td>NaN</td>\n",
              "      <td>NaN</td>\n",
              "      <td>NaN</td>\n",
              "      <td>NaN</td>\n",
              "      <td>NaN</td>\n",
              "      <td>NaN</td>\n",
              "      <td>NaN</td>\n",
              "      <td>NaN</td>\n",
              "      <td>NaN</td>\n",
              "      <td>NaN</td>\n",
              "      <td>NaN</td>\n",
              "      <td>NaN</td>\n",
              "      <td>...</td>\n",
              "      <td>NaN</td>\n",
              "      <td>NaN</td>\n",
              "      <td>NaN</td>\n",
              "      <td>NaN</td>\n",
              "      <td>NaN</td>\n",
              "      <td>NaN</td>\n",
              "      <td>NaN</td>\n",
              "      <td>NaN</td>\n",
              "      <td>NaN</td>\n",
              "      <td>NaN</td>\n",
              "      <td>NaN</td>\n",
              "      <td>NaN</td>\n",
              "      <td>NaN</td>\n",
              "      <td>NaN</td>\n",
              "      <td>NaN</td>\n",
              "      <td>NaN</td>\n",
              "      <td>NaN</td>\n",
              "      <td>NaN</td>\n",
              "      <td>NaN</td>\n",
              "      <td>NaN</td>\n",
              "      <td>NaN</td>\n",
              "      <td>NaN</td>\n",
              "      <td>NaN</td>\n",
              "      <td>NaN</td>\n",
              "      <td>NaN</td>\n",
              "      <td>NaN</td>\n",
              "      <td>NaN</td>\n",
              "      <td>NaN</td>\n",
              "      <td>NaN</td>\n",
              "      <td>NaN</td>\n",
              "      <td>NaN</td>\n",
              "      <td>NaN</td>\n",
              "      <td>NaN</td>\n",
              "      <td>NaN</td>\n",
              "      <td>NaN</td>\n",
              "      <td>NaN</td>\n",
              "      <td>NaN</td>\n",
              "      <td>NaN</td>\n",
              "      <td>NaN</td>\n",
              "      <td>NaN</td>\n",
              "    </tr>\n",
              "    <tr>\n",
              "      <th>--BumyUHiO_7YsHurb9Hkw</th>\n",
              "      <td>NaN</td>\n",
              "      <td>NaN</td>\n",
              "      <td>NaN</td>\n",
              "      <td>NaN</td>\n",
              "      <td>NaN</td>\n",
              "      <td>NaN</td>\n",
              "      <td>NaN</td>\n",
              "      <td>NaN</td>\n",
              "      <td>NaN</td>\n",
              "      <td>NaN</td>\n",
              "      <td>NaN</td>\n",
              "      <td>NaN</td>\n",
              "      <td>NaN</td>\n",
              "      <td>NaN</td>\n",
              "      <td>NaN</td>\n",
              "      <td>NaN</td>\n",
              "      <td>NaN</td>\n",
              "      <td>NaN</td>\n",
              "      <td>NaN</td>\n",
              "      <td>NaN</td>\n",
              "      <td>NaN</td>\n",
              "      <td>NaN</td>\n",
              "      <td>NaN</td>\n",
              "      <td>NaN</td>\n",
              "      <td>NaN</td>\n",
              "      <td>NaN</td>\n",
              "      <td>NaN</td>\n",
              "      <td>NaN</td>\n",
              "      <td>NaN</td>\n",
              "      <td>NaN</td>\n",
              "      <td>NaN</td>\n",
              "      <td>NaN</td>\n",
              "      <td>NaN</td>\n",
              "      <td>NaN</td>\n",
              "      <td>NaN</td>\n",
              "      <td>NaN</td>\n",
              "      <td>NaN</td>\n",
              "      <td>NaN</td>\n",
              "      <td>NaN</td>\n",
              "      <td>NaN</td>\n",
              "      <td>...</td>\n",
              "      <td>NaN</td>\n",
              "      <td>NaN</td>\n",
              "      <td>NaN</td>\n",
              "      <td>NaN</td>\n",
              "      <td>NaN</td>\n",
              "      <td>NaN</td>\n",
              "      <td>NaN</td>\n",
              "      <td>NaN</td>\n",
              "      <td>NaN</td>\n",
              "      <td>NaN</td>\n",
              "      <td>NaN</td>\n",
              "      <td>NaN</td>\n",
              "      <td>NaN</td>\n",
              "      <td>NaN</td>\n",
              "      <td>NaN</td>\n",
              "      <td>NaN</td>\n",
              "      <td>NaN</td>\n",
              "      <td>NaN</td>\n",
              "      <td>NaN</td>\n",
              "      <td>NaN</td>\n",
              "      <td>NaN</td>\n",
              "      <td>NaN</td>\n",
              "      <td>NaN</td>\n",
              "      <td>NaN</td>\n",
              "      <td>NaN</td>\n",
              "      <td>NaN</td>\n",
              "      <td>NaN</td>\n",
              "      <td>NaN</td>\n",
              "      <td>NaN</td>\n",
              "      <td>NaN</td>\n",
              "      <td>NaN</td>\n",
              "      <td>NaN</td>\n",
              "      <td>NaN</td>\n",
              "      <td>NaN</td>\n",
              "      <td>NaN</td>\n",
              "      <td>NaN</td>\n",
              "      <td>NaN</td>\n",
              "      <td>NaN</td>\n",
              "      <td>NaN</td>\n",
              "      <td>NaN</td>\n",
              "    </tr>\n",
              "    <tr>\n",
              "      <th>--D8T8lqv2YnX8BebVQBdg</th>\n",
              "      <td>NaN</td>\n",
              "      <td>NaN</td>\n",
              "      <td>NaN</td>\n",
              "      <td>NaN</td>\n",
              "      <td>NaN</td>\n",
              "      <td>NaN</td>\n",
              "      <td>NaN</td>\n",
              "      <td>NaN</td>\n",
              "      <td>NaN</td>\n",
              "      <td>NaN</td>\n",
              "      <td>NaN</td>\n",
              "      <td>NaN</td>\n",
              "      <td>NaN</td>\n",
              "      <td>NaN</td>\n",
              "      <td>NaN</td>\n",
              "      <td>NaN</td>\n",
              "      <td>NaN</td>\n",
              "      <td>NaN</td>\n",
              "      <td>NaN</td>\n",
              "      <td>NaN</td>\n",
              "      <td>NaN</td>\n",
              "      <td>NaN</td>\n",
              "      <td>NaN</td>\n",
              "      <td>NaN</td>\n",
              "      <td>NaN</td>\n",
              "      <td>NaN</td>\n",
              "      <td>NaN</td>\n",
              "      <td>NaN</td>\n",
              "      <td>NaN</td>\n",
              "      <td>NaN</td>\n",
              "      <td>NaN</td>\n",
              "      <td>NaN</td>\n",
              "      <td>NaN</td>\n",
              "      <td>NaN</td>\n",
              "      <td>NaN</td>\n",
              "      <td>NaN</td>\n",
              "      <td>NaN</td>\n",
              "      <td>NaN</td>\n",
              "      <td>NaN</td>\n",
              "      <td>NaN</td>\n",
              "      <td>...</td>\n",
              "      <td>NaN</td>\n",
              "      <td>NaN</td>\n",
              "      <td>NaN</td>\n",
              "      <td>NaN</td>\n",
              "      <td>NaN</td>\n",
              "      <td>NaN</td>\n",
              "      <td>NaN</td>\n",
              "      <td>NaN</td>\n",
              "      <td>NaN</td>\n",
              "      <td>NaN</td>\n",
              "      <td>NaN</td>\n",
              "      <td>NaN</td>\n",
              "      <td>NaN</td>\n",
              "      <td>NaN</td>\n",
              "      <td>NaN</td>\n",
              "      <td>NaN</td>\n",
              "      <td>NaN</td>\n",
              "      <td>NaN</td>\n",
              "      <td>NaN</td>\n",
              "      <td>NaN</td>\n",
              "      <td>NaN</td>\n",
              "      <td>NaN</td>\n",
              "      <td>NaN</td>\n",
              "      <td>NaN</td>\n",
              "      <td>NaN</td>\n",
              "      <td>NaN</td>\n",
              "      <td>NaN</td>\n",
              "      <td>NaN</td>\n",
              "      <td>NaN</td>\n",
              "      <td>NaN</td>\n",
              "      <td>NaN</td>\n",
              "      <td>NaN</td>\n",
              "      <td>NaN</td>\n",
              "      <td>NaN</td>\n",
              "      <td>NaN</td>\n",
              "      <td>NaN</td>\n",
              "      <td>NaN</td>\n",
              "      <td>NaN</td>\n",
              "      <td>NaN</td>\n",
              "      <td>NaN</td>\n",
              "    </tr>\n",
              "    <tr>\n",
              "      <th>--Qh8yKWAvIP4V4K8ZPfHA</th>\n",
              "      <td>NaN</td>\n",
              "      <td>NaN</td>\n",
              "      <td>NaN</td>\n",
              "      <td>NaN</td>\n",
              "      <td>NaN</td>\n",
              "      <td>NaN</td>\n",
              "      <td>NaN</td>\n",
              "      <td>NaN</td>\n",
              "      <td>NaN</td>\n",
              "      <td>NaN</td>\n",
              "      <td>NaN</td>\n",
              "      <td>NaN</td>\n",
              "      <td>NaN</td>\n",
              "      <td>NaN</td>\n",
              "      <td>NaN</td>\n",
              "      <td>NaN</td>\n",
              "      <td>NaN</td>\n",
              "      <td>NaN</td>\n",
              "      <td>NaN</td>\n",
              "      <td>NaN</td>\n",
              "      <td>NaN</td>\n",
              "      <td>NaN</td>\n",
              "      <td>NaN</td>\n",
              "      <td>NaN</td>\n",
              "      <td>NaN</td>\n",
              "      <td>NaN</td>\n",
              "      <td>NaN</td>\n",
              "      <td>NaN</td>\n",
              "      <td>NaN</td>\n",
              "      <td>NaN</td>\n",
              "      <td>NaN</td>\n",
              "      <td>NaN</td>\n",
              "      <td>NaN</td>\n",
              "      <td>NaN</td>\n",
              "      <td>NaN</td>\n",
              "      <td>NaN</td>\n",
              "      <td>NaN</td>\n",
              "      <td>NaN</td>\n",
              "      <td>NaN</td>\n",
              "      <td>NaN</td>\n",
              "      <td>...</td>\n",
              "      <td>NaN</td>\n",
              "      <td>NaN</td>\n",
              "      <td>NaN</td>\n",
              "      <td>NaN</td>\n",
              "      <td>NaN</td>\n",
              "      <td>NaN</td>\n",
              "      <td>NaN</td>\n",
              "      <td>NaN</td>\n",
              "      <td>NaN</td>\n",
              "      <td>NaN</td>\n",
              "      <td>NaN</td>\n",
              "      <td>NaN</td>\n",
              "      <td>NaN</td>\n",
              "      <td>NaN</td>\n",
              "      <td>NaN</td>\n",
              "      <td>NaN</td>\n",
              "      <td>NaN</td>\n",
              "      <td>NaN</td>\n",
              "      <td>NaN</td>\n",
              "      <td>NaN</td>\n",
              "      <td>NaN</td>\n",
              "      <td>NaN</td>\n",
              "      <td>NaN</td>\n",
              "      <td>NaN</td>\n",
              "      <td>NaN</td>\n",
              "      <td>NaN</td>\n",
              "      <td>NaN</td>\n",
              "      <td>NaN</td>\n",
              "      <td>NaN</td>\n",
              "      <td>NaN</td>\n",
              "      <td>NaN</td>\n",
              "      <td>NaN</td>\n",
              "      <td>NaN</td>\n",
              "      <td>NaN</td>\n",
              "      <td>NaN</td>\n",
              "      <td>NaN</td>\n",
              "      <td>NaN</td>\n",
              "      <td>NaN</td>\n",
              "      <td>NaN</td>\n",
              "      <td>NaN</td>\n",
              "    </tr>\n",
              "    <tr>\n",
              "      <th>-05XqtNjcBq19vh2CVJN8g</th>\n",
              "      <td>NaN</td>\n",
              "      <td>NaN</td>\n",
              "      <td>NaN</td>\n",
              "      <td>NaN</td>\n",
              "      <td>NaN</td>\n",
              "      <td>NaN</td>\n",
              "      <td>NaN</td>\n",
              "      <td>NaN</td>\n",
              "      <td>NaN</td>\n",
              "      <td>NaN</td>\n",
              "      <td>NaN</td>\n",
              "      <td>NaN</td>\n",
              "      <td>NaN</td>\n",
              "      <td>NaN</td>\n",
              "      <td>NaN</td>\n",
              "      <td>NaN</td>\n",
              "      <td>NaN</td>\n",
              "      <td>NaN</td>\n",
              "      <td>NaN</td>\n",
              "      <td>NaN</td>\n",
              "      <td>NaN</td>\n",
              "      <td>NaN</td>\n",
              "      <td>NaN</td>\n",
              "      <td>NaN</td>\n",
              "      <td>NaN</td>\n",
              "      <td>NaN</td>\n",
              "      <td>NaN</td>\n",
              "      <td>NaN</td>\n",
              "      <td>NaN</td>\n",
              "      <td>NaN</td>\n",
              "      <td>NaN</td>\n",
              "      <td>NaN</td>\n",
              "      <td>NaN</td>\n",
              "      <td>NaN</td>\n",
              "      <td>NaN</td>\n",
              "      <td>NaN</td>\n",
              "      <td>NaN</td>\n",
              "      <td>NaN</td>\n",
              "      <td>NaN</td>\n",
              "      <td>NaN</td>\n",
              "      <td>...</td>\n",
              "      <td>NaN</td>\n",
              "      <td>NaN</td>\n",
              "      <td>NaN</td>\n",
              "      <td>NaN</td>\n",
              "      <td>NaN</td>\n",
              "      <td>NaN</td>\n",
              "      <td>NaN</td>\n",
              "      <td>NaN</td>\n",
              "      <td>NaN</td>\n",
              "      <td>NaN</td>\n",
              "      <td>NaN</td>\n",
              "      <td>NaN</td>\n",
              "      <td>NaN</td>\n",
              "      <td>NaN</td>\n",
              "      <td>NaN</td>\n",
              "      <td>NaN</td>\n",
              "      <td>NaN</td>\n",
              "      <td>NaN</td>\n",
              "      <td>NaN</td>\n",
              "      <td>NaN</td>\n",
              "      <td>NaN</td>\n",
              "      <td>NaN</td>\n",
              "      <td>NaN</td>\n",
              "      <td>NaN</td>\n",
              "      <td>NaN</td>\n",
              "      <td>NaN</td>\n",
              "      <td>NaN</td>\n",
              "      <td>NaN</td>\n",
              "      <td>NaN</td>\n",
              "      <td>NaN</td>\n",
              "      <td>NaN</td>\n",
              "      <td>NaN</td>\n",
              "      <td>NaN</td>\n",
              "      <td>NaN</td>\n",
              "      <td>NaN</td>\n",
              "      <td>NaN</td>\n",
              "      <td>NaN</td>\n",
              "      <td>NaN</td>\n",
              "      <td>NaN</td>\n",
              "      <td>NaN</td>\n",
              "    </tr>\n",
              "    <tr>\n",
              "      <th>...</th>\n",
              "      <td>...</td>\n",
              "      <td>...</td>\n",
              "      <td>...</td>\n",
              "      <td>...</td>\n",
              "      <td>...</td>\n",
              "      <td>...</td>\n",
              "      <td>...</td>\n",
              "      <td>...</td>\n",
              "      <td>...</td>\n",
              "      <td>...</td>\n",
              "      <td>...</td>\n",
              "      <td>...</td>\n",
              "      <td>...</td>\n",
              "      <td>...</td>\n",
              "      <td>...</td>\n",
              "      <td>...</td>\n",
              "      <td>...</td>\n",
              "      <td>...</td>\n",
              "      <td>...</td>\n",
              "      <td>...</td>\n",
              "      <td>...</td>\n",
              "      <td>...</td>\n",
              "      <td>...</td>\n",
              "      <td>...</td>\n",
              "      <td>...</td>\n",
              "      <td>...</td>\n",
              "      <td>...</td>\n",
              "      <td>...</td>\n",
              "      <td>...</td>\n",
              "      <td>...</td>\n",
              "      <td>...</td>\n",
              "      <td>...</td>\n",
              "      <td>...</td>\n",
              "      <td>...</td>\n",
              "      <td>...</td>\n",
              "      <td>...</td>\n",
              "      <td>...</td>\n",
              "      <td>...</td>\n",
              "      <td>...</td>\n",
              "      <td>...</td>\n",
              "      <td>...</td>\n",
              "      <td>...</td>\n",
              "      <td>...</td>\n",
              "      <td>...</td>\n",
              "      <td>...</td>\n",
              "      <td>...</td>\n",
              "      <td>...</td>\n",
              "      <td>...</td>\n",
              "      <td>...</td>\n",
              "      <td>...</td>\n",
              "      <td>...</td>\n",
              "      <td>...</td>\n",
              "      <td>...</td>\n",
              "      <td>...</td>\n",
              "      <td>...</td>\n",
              "      <td>...</td>\n",
              "      <td>...</td>\n",
              "      <td>...</td>\n",
              "      <td>...</td>\n",
              "      <td>...</td>\n",
              "      <td>...</td>\n",
              "      <td>...</td>\n",
              "      <td>...</td>\n",
              "      <td>...</td>\n",
              "      <td>...</td>\n",
              "      <td>...</td>\n",
              "      <td>...</td>\n",
              "      <td>...</td>\n",
              "      <td>...</td>\n",
              "      <td>...</td>\n",
              "      <td>...</td>\n",
              "      <td>...</td>\n",
              "      <td>...</td>\n",
              "      <td>...</td>\n",
              "      <td>...</td>\n",
              "      <td>...</td>\n",
              "      <td>...</td>\n",
              "      <td>...</td>\n",
              "      <td>...</td>\n",
              "      <td>...</td>\n",
              "      <td>...</td>\n",
              "    </tr>\n",
              "    <tr>\n",
              "      <th>zyjyUDOW9IhMwNQ-PubOqw</th>\n",
              "      <td>NaN</td>\n",
              "      <td>NaN</td>\n",
              "      <td>NaN</td>\n",
              "      <td>NaN</td>\n",
              "      <td>NaN</td>\n",
              "      <td>NaN</td>\n",
              "      <td>NaN</td>\n",
              "      <td>NaN</td>\n",
              "      <td>NaN</td>\n",
              "      <td>NaN</td>\n",
              "      <td>NaN</td>\n",
              "      <td>NaN</td>\n",
              "      <td>NaN</td>\n",
              "      <td>NaN</td>\n",
              "      <td>NaN</td>\n",
              "      <td>NaN</td>\n",
              "      <td>NaN</td>\n",
              "      <td>NaN</td>\n",
              "      <td>NaN</td>\n",
              "      <td>NaN</td>\n",
              "      <td>NaN</td>\n",
              "      <td>NaN</td>\n",
              "      <td>NaN</td>\n",
              "      <td>NaN</td>\n",
              "      <td>NaN</td>\n",
              "      <td>NaN</td>\n",
              "      <td>NaN</td>\n",
              "      <td>NaN</td>\n",
              "      <td>NaN</td>\n",
              "      <td>NaN</td>\n",
              "      <td>NaN</td>\n",
              "      <td>NaN</td>\n",
              "      <td>NaN</td>\n",
              "      <td>NaN</td>\n",
              "      <td>NaN</td>\n",
              "      <td>NaN</td>\n",
              "      <td>NaN</td>\n",
              "      <td>NaN</td>\n",
              "      <td>NaN</td>\n",
              "      <td>NaN</td>\n",
              "      <td>...</td>\n",
              "      <td>NaN</td>\n",
              "      <td>NaN</td>\n",
              "      <td>NaN</td>\n",
              "      <td>NaN</td>\n",
              "      <td>NaN</td>\n",
              "      <td>NaN</td>\n",
              "      <td>NaN</td>\n",
              "      <td>NaN</td>\n",
              "      <td>NaN</td>\n",
              "      <td>NaN</td>\n",
              "      <td>NaN</td>\n",
              "      <td>NaN</td>\n",
              "      <td>NaN</td>\n",
              "      <td>NaN</td>\n",
              "      <td>NaN</td>\n",
              "      <td>NaN</td>\n",
              "      <td>NaN</td>\n",
              "      <td>NaN</td>\n",
              "      <td>NaN</td>\n",
              "      <td>NaN</td>\n",
              "      <td>NaN</td>\n",
              "      <td>NaN</td>\n",
              "      <td>NaN</td>\n",
              "      <td>NaN</td>\n",
              "      <td>NaN</td>\n",
              "      <td>NaN</td>\n",
              "      <td>NaN</td>\n",
              "      <td>NaN</td>\n",
              "      <td>NaN</td>\n",
              "      <td>NaN</td>\n",
              "      <td>NaN</td>\n",
              "      <td>NaN</td>\n",
              "      <td>NaN</td>\n",
              "      <td>NaN</td>\n",
              "      <td>NaN</td>\n",
              "      <td>NaN</td>\n",
              "      <td>NaN</td>\n",
              "      <td>NaN</td>\n",
              "      <td>NaN</td>\n",
              "      <td>NaN</td>\n",
              "    </tr>\n",
              "    <tr>\n",
              "      <th>zzPvEodjvLPe-5NvV0U_cg</th>\n",
              "      <td>NaN</td>\n",
              "      <td>NaN</td>\n",
              "      <td>NaN</td>\n",
              "      <td>NaN</td>\n",
              "      <td>NaN</td>\n",
              "      <td>NaN</td>\n",
              "      <td>NaN</td>\n",
              "      <td>NaN</td>\n",
              "      <td>NaN</td>\n",
              "      <td>NaN</td>\n",
              "      <td>NaN</td>\n",
              "      <td>NaN</td>\n",
              "      <td>NaN</td>\n",
              "      <td>NaN</td>\n",
              "      <td>NaN</td>\n",
              "      <td>NaN</td>\n",
              "      <td>NaN</td>\n",
              "      <td>NaN</td>\n",
              "      <td>NaN</td>\n",
              "      <td>NaN</td>\n",
              "      <td>NaN</td>\n",
              "      <td>NaN</td>\n",
              "      <td>NaN</td>\n",
              "      <td>NaN</td>\n",
              "      <td>NaN</td>\n",
              "      <td>NaN</td>\n",
              "      <td>NaN</td>\n",
              "      <td>NaN</td>\n",
              "      <td>NaN</td>\n",
              "      <td>NaN</td>\n",
              "      <td>NaN</td>\n",
              "      <td>NaN</td>\n",
              "      <td>NaN</td>\n",
              "      <td>NaN</td>\n",
              "      <td>NaN</td>\n",
              "      <td>NaN</td>\n",
              "      <td>NaN</td>\n",
              "      <td>NaN</td>\n",
              "      <td>NaN</td>\n",
              "      <td>NaN</td>\n",
              "      <td>...</td>\n",
              "      <td>NaN</td>\n",
              "      <td>NaN</td>\n",
              "      <td>NaN</td>\n",
              "      <td>NaN</td>\n",
              "      <td>NaN</td>\n",
              "      <td>NaN</td>\n",
              "      <td>NaN</td>\n",
              "      <td>NaN</td>\n",
              "      <td>NaN</td>\n",
              "      <td>NaN</td>\n",
              "      <td>NaN</td>\n",
              "      <td>NaN</td>\n",
              "      <td>NaN</td>\n",
              "      <td>NaN</td>\n",
              "      <td>NaN</td>\n",
              "      <td>NaN</td>\n",
              "      <td>NaN</td>\n",
              "      <td>NaN</td>\n",
              "      <td>NaN</td>\n",
              "      <td>NaN</td>\n",
              "      <td>NaN</td>\n",
              "      <td>NaN</td>\n",
              "      <td>NaN</td>\n",
              "      <td>NaN</td>\n",
              "      <td>NaN</td>\n",
              "      <td>NaN</td>\n",
              "      <td>NaN</td>\n",
              "      <td>NaN</td>\n",
              "      <td>NaN</td>\n",
              "      <td>NaN</td>\n",
              "      <td>NaN</td>\n",
              "      <td>NaN</td>\n",
              "      <td>NaN</td>\n",
              "      <td>NaN</td>\n",
              "      <td>NaN</td>\n",
              "      <td>NaN</td>\n",
              "      <td>NaN</td>\n",
              "      <td>NaN</td>\n",
              "      <td>NaN</td>\n",
              "      <td>NaN</td>\n",
              "    </tr>\n",
              "    <tr>\n",
              "      <th>zzitZPIJBmyxt8DefrJygg</th>\n",
              "      <td>NaN</td>\n",
              "      <td>NaN</td>\n",
              "      <td>NaN</td>\n",
              "      <td>NaN</td>\n",
              "      <td>NaN</td>\n",
              "      <td>NaN</td>\n",
              "      <td>NaN</td>\n",
              "      <td>NaN</td>\n",
              "      <td>NaN</td>\n",
              "      <td>NaN</td>\n",
              "      <td>NaN</td>\n",
              "      <td>NaN</td>\n",
              "      <td>NaN</td>\n",
              "      <td>NaN</td>\n",
              "      <td>NaN</td>\n",
              "      <td>NaN</td>\n",
              "      <td>NaN</td>\n",
              "      <td>NaN</td>\n",
              "      <td>NaN</td>\n",
              "      <td>NaN</td>\n",
              "      <td>NaN</td>\n",
              "      <td>NaN</td>\n",
              "      <td>NaN</td>\n",
              "      <td>NaN</td>\n",
              "      <td>NaN</td>\n",
              "      <td>NaN</td>\n",
              "      <td>NaN</td>\n",
              "      <td>NaN</td>\n",
              "      <td>NaN</td>\n",
              "      <td>NaN</td>\n",
              "      <td>NaN</td>\n",
              "      <td>NaN</td>\n",
              "      <td>NaN</td>\n",
              "      <td>NaN</td>\n",
              "      <td>NaN</td>\n",
              "      <td>NaN</td>\n",
              "      <td>NaN</td>\n",
              "      <td>NaN</td>\n",
              "      <td>NaN</td>\n",
              "      <td>NaN</td>\n",
              "      <td>...</td>\n",
              "      <td>NaN</td>\n",
              "      <td>NaN</td>\n",
              "      <td>NaN</td>\n",
              "      <td>NaN</td>\n",
              "      <td>NaN</td>\n",
              "      <td>NaN</td>\n",
              "      <td>NaN</td>\n",
              "      <td>NaN</td>\n",
              "      <td>NaN</td>\n",
              "      <td>NaN</td>\n",
              "      <td>NaN</td>\n",
              "      <td>NaN</td>\n",
              "      <td>NaN</td>\n",
              "      <td>NaN</td>\n",
              "      <td>NaN</td>\n",
              "      <td>NaN</td>\n",
              "      <td>NaN</td>\n",
              "      <td>NaN</td>\n",
              "      <td>NaN</td>\n",
              "      <td>NaN</td>\n",
              "      <td>NaN</td>\n",
              "      <td>NaN</td>\n",
              "      <td>NaN</td>\n",
              "      <td>NaN</td>\n",
              "      <td>NaN</td>\n",
              "      <td>NaN</td>\n",
              "      <td>NaN</td>\n",
              "      <td>NaN</td>\n",
              "      <td>NaN</td>\n",
              "      <td>NaN</td>\n",
              "      <td>NaN</td>\n",
              "      <td>NaN</td>\n",
              "      <td>NaN</td>\n",
              "      <td>NaN</td>\n",
              "      <td>NaN</td>\n",
              "      <td>NaN</td>\n",
              "      <td>NaN</td>\n",
              "      <td>NaN</td>\n",
              "      <td>NaN</td>\n",
              "      <td>NaN</td>\n",
              "    </tr>\n",
              "    <tr>\n",
              "      <th>zzo--VpSQh8PpsGVeMC1dQ</th>\n",
              "      <td>NaN</td>\n",
              "      <td>NaN</td>\n",
              "      <td>NaN</td>\n",
              "      <td>NaN</td>\n",
              "      <td>NaN</td>\n",
              "      <td>NaN</td>\n",
              "      <td>NaN</td>\n",
              "      <td>NaN</td>\n",
              "      <td>NaN</td>\n",
              "      <td>NaN</td>\n",
              "      <td>NaN</td>\n",
              "      <td>NaN</td>\n",
              "      <td>NaN</td>\n",
              "      <td>NaN</td>\n",
              "      <td>NaN</td>\n",
              "      <td>NaN</td>\n",
              "      <td>NaN</td>\n",
              "      <td>NaN</td>\n",
              "      <td>NaN</td>\n",
              "      <td>NaN</td>\n",
              "      <td>NaN</td>\n",
              "      <td>NaN</td>\n",
              "      <td>NaN</td>\n",
              "      <td>NaN</td>\n",
              "      <td>NaN</td>\n",
              "      <td>NaN</td>\n",
              "      <td>NaN</td>\n",
              "      <td>NaN</td>\n",
              "      <td>NaN</td>\n",
              "      <td>NaN</td>\n",
              "      <td>NaN</td>\n",
              "      <td>NaN</td>\n",
              "      <td>NaN</td>\n",
              "      <td>NaN</td>\n",
              "      <td>NaN</td>\n",
              "      <td>NaN</td>\n",
              "      <td>NaN</td>\n",
              "      <td>NaN</td>\n",
              "      <td>NaN</td>\n",
              "      <td>NaN</td>\n",
              "      <td>...</td>\n",
              "      <td>NaN</td>\n",
              "      <td>NaN</td>\n",
              "      <td>NaN</td>\n",
              "      <td>NaN</td>\n",
              "      <td>NaN</td>\n",
              "      <td>NaN</td>\n",
              "      <td>NaN</td>\n",
              "      <td>NaN</td>\n",
              "      <td>NaN</td>\n",
              "      <td>NaN</td>\n",
              "      <td>NaN</td>\n",
              "      <td>NaN</td>\n",
              "      <td>NaN</td>\n",
              "      <td>NaN</td>\n",
              "      <td>NaN</td>\n",
              "      <td>NaN</td>\n",
              "      <td>NaN</td>\n",
              "      <td>NaN</td>\n",
              "      <td>NaN</td>\n",
              "      <td>NaN</td>\n",
              "      <td>NaN</td>\n",
              "      <td>NaN</td>\n",
              "      <td>NaN</td>\n",
              "      <td>NaN</td>\n",
              "      <td>NaN</td>\n",
              "      <td>NaN</td>\n",
              "      <td>NaN</td>\n",
              "      <td>NaN</td>\n",
              "      <td>NaN</td>\n",
              "      <td>NaN</td>\n",
              "      <td>NaN</td>\n",
              "      <td>NaN</td>\n",
              "      <td>NaN</td>\n",
              "      <td>NaN</td>\n",
              "      <td>NaN</td>\n",
              "      <td>NaN</td>\n",
              "      <td>NaN</td>\n",
              "      <td>NaN</td>\n",
              "      <td>NaN</td>\n",
              "      <td>NaN</td>\n",
              "    </tr>\n",
              "    <tr>\n",
              "      <th>zzpgpo54-_P-4rzzBtOuLQ</th>\n",
              "      <td>NaN</td>\n",
              "      <td>NaN</td>\n",
              "      <td>NaN</td>\n",
              "      <td>NaN</td>\n",
              "      <td>NaN</td>\n",
              "      <td>NaN</td>\n",
              "      <td>NaN</td>\n",
              "      <td>NaN</td>\n",
              "      <td>NaN</td>\n",
              "      <td>NaN</td>\n",
              "      <td>NaN</td>\n",
              "      <td>NaN</td>\n",
              "      <td>NaN</td>\n",
              "      <td>NaN</td>\n",
              "      <td>NaN</td>\n",
              "      <td>NaN</td>\n",
              "      <td>NaN</td>\n",
              "      <td>NaN</td>\n",
              "      <td>NaN</td>\n",
              "      <td>NaN</td>\n",
              "      <td>NaN</td>\n",
              "      <td>NaN</td>\n",
              "      <td>NaN</td>\n",
              "      <td>NaN</td>\n",
              "      <td>NaN</td>\n",
              "      <td>NaN</td>\n",
              "      <td>NaN</td>\n",
              "      <td>NaN</td>\n",
              "      <td>NaN</td>\n",
              "      <td>NaN</td>\n",
              "      <td>NaN</td>\n",
              "      <td>NaN</td>\n",
              "      <td>NaN</td>\n",
              "      <td>NaN</td>\n",
              "      <td>NaN</td>\n",
              "      <td>NaN</td>\n",
              "      <td>NaN</td>\n",
              "      <td>NaN</td>\n",
              "      <td>NaN</td>\n",
              "      <td>NaN</td>\n",
              "      <td>...</td>\n",
              "      <td>NaN</td>\n",
              "      <td>NaN</td>\n",
              "      <td>NaN</td>\n",
              "      <td>NaN</td>\n",
              "      <td>NaN</td>\n",
              "      <td>NaN</td>\n",
              "      <td>NaN</td>\n",
              "      <td>NaN</td>\n",
              "      <td>NaN</td>\n",
              "      <td>NaN</td>\n",
              "      <td>NaN</td>\n",
              "      <td>NaN</td>\n",
              "      <td>NaN</td>\n",
              "      <td>NaN</td>\n",
              "      <td>NaN</td>\n",
              "      <td>NaN</td>\n",
              "      <td>NaN</td>\n",
              "      <td>NaN</td>\n",
              "      <td>NaN</td>\n",
              "      <td>NaN</td>\n",
              "      <td>NaN</td>\n",
              "      <td>NaN</td>\n",
              "      <td>NaN</td>\n",
              "      <td>NaN</td>\n",
              "      <td>NaN</td>\n",
              "      <td>NaN</td>\n",
              "      <td>NaN</td>\n",
              "      <td>NaN</td>\n",
              "      <td>NaN</td>\n",
              "      <td>NaN</td>\n",
              "      <td>NaN</td>\n",
              "      <td>NaN</td>\n",
              "      <td>NaN</td>\n",
              "      <td>NaN</td>\n",
              "      <td>NaN</td>\n",
              "      <td>NaN</td>\n",
              "      <td>NaN</td>\n",
              "      <td>NaN</td>\n",
              "      <td>NaN</td>\n",
              "      <td>NaN</td>\n",
              "    </tr>\n",
              "  </tbody>\n",
              "</table>\n",
              "<p>14801 rows × 1871 columns</p>\n",
              "</div>"
            ],
            "text/plain": [
              "business_id             -1xuC540Nycht_iWFeJ-dw  ...  zzwhN7x37nyjP0ZM8oiHmw\n",
              "user_id                                         ...                        \n",
              "--2HUmLkcNHZp0xw6AMBPg                     NaN  ...                     NaN\n",
              "--BumyUHiO_7YsHurb9Hkw                     NaN  ...                     NaN\n",
              "--D8T8lqv2YnX8BebVQBdg                     NaN  ...                     NaN\n",
              "--Qh8yKWAvIP4V4K8ZPfHA                     NaN  ...                     NaN\n",
              "-05XqtNjcBq19vh2CVJN8g                     NaN  ...                     NaN\n",
              "...                                        ...  ...                     ...\n",
              "zyjyUDOW9IhMwNQ-PubOqw                     NaN  ...                     NaN\n",
              "zzPvEodjvLPe-5NvV0U_cg                     NaN  ...                     NaN\n",
              "zzitZPIJBmyxt8DefrJygg                     NaN  ...                     NaN\n",
              "zzo--VpSQh8PpsGVeMC1dQ                     NaN  ...                     NaN\n",
              "zzpgpo54-_P-4rzzBtOuLQ                     NaN  ...                     NaN\n",
              "\n",
              "[14801 rows x 1871 columns]"
            ]
          },
          "metadata": {
            "tags": []
          },
          "execution_count": 43
        }
      ]
    },
    {
      "cell_type": "code",
      "metadata": {
        "id": "XNhCJDPMUCEs",
        "colab_type": "code",
        "colab": {}
      },
      "source": [
        ""
      ],
      "execution_count": 0,
      "outputs": []
    },
    {
      "cell_type": "code",
      "metadata": {
        "colab_type": "code",
        "id": "6f4LKy9fyMgh",
        "colab": {}
      },
      "source": [
        "P = pd.DataFrame(userid_vectors.toarray(), index=userid_df.index, columns=userid_vectorizer.get_feature_names())\n",
        "Q = pd.DataFrame(businessid_vectors.toarray(), index=business_df.index, columns=businessid_vectorizer.get_feature_names())"
      ],
      "execution_count": 0,
      "outputs": []
    },
    {
      "cell_type": "code",
      "metadata": {
        "id": "cDSzI9b7SuKt",
        "colab_type": "code",
        "colab": {}
      },
      "source": [
        "# pickle_in = open(\"/content/drive/My Drive/recommender/yelp_recommendation.pkl\",\"rb\")\n",
        "# userid_vectors= pickle.load(pickle_in)\n",
        "# businessid_vectors=pickle.load(pickle_in)\n",
        "# pickle_in.close()"
      ],
      "execution_count": 0,
      "outputs": []
    },
    {
      "cell_type": "code",
      "metadata": {
        "id": "7r3ZneFBHckr",
        "colab_type": "code",
        "outputId": "3d56e726-8d69-4039-bdf1-933d07b7cd95",
        "colab": {
          "base_uri": "https://localhost:8080/",
          "height": 485
        }
      },
      "source": [
        "P"
      ],
      "execution_count": 0,
      "outputs": [
        {
          "output_type": "execute_result",
          "data": {
            "text/html": [
              "<div>\n",
              "<style scoped>\n",
              "    .dataframe tbody tr th:only-of-type {\n",
              "        vertical-align: middle;\n",
              "    }\n",
              "\n",
              "    .dataframe tbody tr th {\n",
              "        vertical-align: top;\n",
              "    }\n",
              "\n",
              "    .dataframe thead th {\n",
              "        text-align: right;\n",
              "    }\n",
              "</style>\n",
              "<table border=\"1\" class=\"dataframe\">\n",
              "  <thead>\n",
              "    <tr style=\"text-align: right;\">\n",
              "      <th></th>\n",
              "      <th>1</th>\n",
              "      <th>10</th>\n",
              "      <th>100</th>\n",
              "      <th>1015</th>\n",
              "      <th>11</th>\n",
              "      <th>12</th>\n",
              "      <th>13</th>\n",
              "      <th>14</th>\n",
              "      <th>15</th>\n",
              "      <th>150</th>\n",
              "      <th>16</th>\n",
              "      <th>17</th>\n",
              "      <th>18</th>\n",
              "      <th>19</th>\n",
              "      <th>1st</th>\n",
              "      <th>2</th>\n",
              "      <th>20</th>\n",
              "      <th>200</th>\n",
              "      <th>23</th>\n",
              "      <th>24</th>\n",
              "      <th>25</th>\n",
              "      <th>250</th>\n",
              "      <th>2nd</th>\n",
              "      <th>3</th>\n",
              "      <th>30</th>\n",
              "      <th>300</th>\n",
              "      <th>32</th>\n",
              "      <th>34</th>\n",
              "      <th>35</th>\n",
              "      <th>350</th>\n",
              "      <th>3rd</th>\n",
              "      <th>4</th>\n",
              "      <th>40</th>\n",
              "      <th>45</th>\n",
              "      <th>4th</th>\n",
              "      <th>5</th>\n",
              "      <th>50</th>\n",
              "      <th>55</th>\n",
              "      <th>6</th>\n",
              "      <th>60</th>\n",
              "      <th>...</th>\n",
              "      <th>worried</th>\n",
              "      <th>worry</th>\n",
              "      <th>worse</th>\n",
              "      <th>worst</th>\n",
              "      <th>worth</th>\n",
              "      <th>worthy</th>\n",
              "      <th>would</th>\n",
              "      <th>wouldve</th>\n",
              "      <th>wow</th>\n",
              "      <th>wrap</th>\n",
              "      <th>wrapped</th>\n",
              "      <th>wraps</th>\n",
              "      <th>write</th>\n",
              "      <th>writing</th>\n",
              "      <th>written</th>\n",
              "      <th>wrong</th>\n",
              "      <th>wrote</th>\n",
              "      <th>wtf</th>\n",
              "      <th>wynn</th>\n",
              "      <th>ya</th>\n",
              "      <th>yay</th>\n",
              "      <th>yeah</th>\n",
              "      <th>year</th>\n",
              "      <th>years</th>\n",
              "      <th>yellow</th>\n",
              "      <th>yelp</th>\n",
              "      <th>yelpers</th>\n",
              "      <th>yes</th>\n",
              "      <th>yesterday</th>\n",
              "      <th>yet</th>\n",
              "      <th>yogurt</th>\n",
              "      <th>yonge</th>\n",
              "      <th>york</th>\n",
              "      <th>young</th>\n",
              "      <th>yum</th>\n",
              "      <th>yummy</th>\n",
              "      <th>zero</th>\n",
              "      <th>zucchini</th>\n",
              "      <th>à</th>\n",
              "      <th>était</th>\n",
              "    </tr>\n",
              "    <tr>\n",
              "      <th>user_id</th>\n",
              "      <th></th>\n",
              "      <th></th>\n",
              "      <th></th>\n",
              "      <th></th>\n",
              "      <th></th>\n",
              "      <th></th>\n",
              "      <th></th>\n",
              "      <th></th>\n",
              "      <th></th>\n",
              "      <th></th>\n",
              "      <th></th>\n",
              "      <th></th>\n",
              "      <th></th>\n",
              "      <th></th>\n",
              "      <th></th>\n",
              "      <th></th>\n",
              "      <th></th>\n",
              "      <th></th>\n",
              "      <th></th>\n",
              "      <th></th>\n",
              "      <th></th>\n",
              "      <th></th>\n",
              "      <th></th>\n",
              "      <th></th>\n",
              "      <th></th>\n",
              "      <th></th>\n",
              "      <th></th>\n",
              "      <th></th>\n",
              "      <th></th>\n",
              "      <th></th>\n",
              "      <th></th>\n",
              "      <th></th>\n",
              "      <th></th>\n",
              "      <th></th>\n",
              "      <th></th>\n",
              "      <th></th>\n",
              "      <th></th>\n",
              "      <th></th>\n",
              "      <th></th>\n",
              "      <th></th>\n",
              "      <th></th>\n",
              "      <th></th>\n",
              "      <th></th>\n",
              "      <th></th>\n",
              "      <th></th>\n",
              "      <th></th>\n",
              "      <th></th>\n",
              "      <th></th>\n",
              "      <th></th>\n",
              "      <th></th>\n",
              "      <th></th>\n",
              "      <th></th>\n",
              "      <th></th>\n",
              "      <th></th>\n",
              "      <th></th>\n",
              "      <th></th>\n",
              "      <th></th>\n",
              "      <th></th>\n",
              "      <th></th>\n",
              "      <th></th>\n",
              "      <th></th>\n",
              "      <th></th>\n",
              "      <th></th>\n",
              "      <th></th>\n",
              "      <th></th>\n",
              "      <th></th>\n",
              "      <th></th>\n",
              "      <th></th>\n",
              "      <th></th>\n",
              "      <th></th>\n",
              "      <th></th>\n",
              "      <th></th>\n",
              "      <th></th>\n",
              "      <th></th>\n",
              "      <th></th>\n",
              "      <th></th>\n",
              "      <th></th>\n",
              "      <th></th>\n",
              "      <th></th>\n",
              "      <th></th>\n",
              "      <th></th>\n",
              "    </tr>\n",
              "  </thead>\n",
              "  <tbody>\n",
              "    <tr>\n",
              "      <th>--2HUmLkcNHZp0xw6AMBPg</th>\n",
              "      <td>0.000000</td>\n",
              "      <td>0.000000</td>\n",
              "      <td>0.000000</td>\n",
              "      <td>0.0</td>\n",
              "      <td>0.0</td>\n",
              "      <td>0.0</td>\n",
              "      <td>0.0</td>\n",
              "      <td>0.0</td>\n",
              "      <td>0.000000</td>\n",
              "      <td>0.00000</td>\n",
              "      <td>0.0</td>\n",
              "      <td>0.0</td>\n",
              "      <td>0.0</td>\n",
              "      <td>0.0</td>\n",
              "      <td>0.0</td>\n",
              "      <td>0.000000</td>\n",
              "      <td>0.0</td>\n",
              "      <td>0.0</td>\n",
              "      <td>0.0</td>\n",
              "      <td>0.0</td>\n",
              "      <td>0.000000</td>\n",
              "      <td>0.0</td>\n",
              "      <td>0.000000</td>\n",
              "      <td>0.000000</td>\n",
              "      <td>0.0</td>\n",
              "      <td>0.0</td>\n",
              "      <td>0.0</td>\n",
              "      <td>0.0</td>\n",
              "      <td>0.000000</td>\n",
              "      <td>0.0</td>\n",
              "      <td>0.0</td>\n",
              "      <td>0.000000</td>\n",
              "      <td>0.0</td>\n",
              "      <td>0.00000</td>\n",
              "      <td>0.0</td>\n",
              "      <td>0.000000</td>\n",
              "      <td>0.0</td>\n",
              "      <td>0.0</td>\n",
              "      <td>0.0</td>\n",
              "      <td>0.000000</td>\n",
              "      <td>...</td>\n",
              "      <td>0.0</td>\n",
              "      <td>0.0</td>\n",
              "      <td>0.0</td>\n",
              "      <td>0.0</td>\n",
              "      <td>0.153202</td>\n",
              "      <td>0.0</td>\n",
              "      <td>0.103130</td>\n",
              "      <td>0.000000</td>\n",
              "      <td>0.0</td>\n",
              "      <td>0.0</td>\n",
              "      <td>0.0</td>\n",
              "      <td>0.0</td>\n",
              "      <td>0.0</td>\n",
              "      <td>0.0</td>\n",
              "      <td>0.0</td>\n",
              "      <td>0.0</td>\n",
              "      <td>0.000000</td>\n",
              "      <td>0.0</td>\n",
              "      <td>0.0</td>\n",
              "      <td>0.0</td>\n",
              "      <td>0.0</td>\n",
              "      <td>0.0</td>\n",
              "      <td>0.0</td>\n",
              "      <td>0.000000</td>\n",
              "      <td>0.0</td>\n",
              "      <td>0.000000</td>\n",
              "      <td>0.000000</td>\n",
              "      <td>0.000000</td>\n",
              "      <td>0.0</td>\n",
              "      <td>0.0</td>\n",
              "      <td>0.0</td>\n",
              "      <td>0.0</td>\n",
              "      <td>0.0</td>\n",
              "      <td>0.0</td>\n",
              "      <td>0.0</td>\n",
              "      <td>0.000000</td>\n",
              "      <td>0.0</td>\n",
              "      <td>0.0</td>\n",
              "      <td>0.000000</td>\n",
              "      <td>0.0</td>\n",
              "    </tr>\n",
              "    <tr>\n",
              "      <th>--BumyUHiO_7YsHurb9Hkw</th>\n",
              "      <td>0.000000</td>\n",
              "      <td>0.000000</td>\n",
              "      <td>0.000000</td>\n",
              "      <td>0.0</td>\n",
              "      <td>0.0</td>\n",
              "      <td>0.0</td>\n",
              "      <td>0.0</td>\n",
              "      <td>0.0</td>\n",
              "      <td>0.000000</td>\n",
              "      <td>0.00000</td>\n",
              "      <td>0.0</td>\n",
              "      <td>0.0</td>\n",
              "      <td>0.0</td>\n",
              "      <td>0.0</td>\n",
              "      <td>0.0</td>\n",
              "      <td>0.000000</td>\n",
              "      <td>0.0</td>\n",
              "      <td>0.0</td>\n",
              "      <td>0.0</td>\n",
              "      <td>0.0</td>\n",
              "      <td>0.000000</td>\n",
              "      <td>0.0</td>\n",
              "      <td>0.000000</td>\n",
              "      <td>0.000000</td>\n",
              "      <td>0.0</td>\n",
              "      <td>0.0</td>\n",
              "      <td>0.0</td>\n",
              "      <td>0.0</td>\n",
              "      <td>0.000000</td>\n",
              "      <td>0.0</td>\n",
              "      <td>0.0</td>\n",
              "      <td>0.000000</td>\n",
              "      <td>0.0</td>\n",
              "      <td>0.00000</td>\n",
              "      <td>0.0</td>\n",
              "      <td>0.000000</td>\n",
              "      <td>0.0</td>\n",
              "      <td>0.0</td>\n",
              "      <td>0.0</td>\n",
              "      <td>0.000000</td>\n",
              "      <td>...</td>\n",
              "      <td>0.0</td>\n",
              "      <td>0.0</td>\n",
              "      <td>0.0</td>\n",
              "      <td>0.0</td>\n",
              "      <td>0.000000</td>\n",
              "      <td>0.0</td>\n",
              "      <td>0.038635</td>\n",
              "      <td>0.000000</td>\n",
              "      <td>0.0</td>\n",
              "      <td>0.0</td>\n",
              "      <td>0.0</td>\n",
              "      <td>0.0</td>\n",
              "      <td>0.0</td>\n",
              "      <td>0.0</td>\n",
              "      <td>0.0</td>\n",
              "      <td>0.0</td>\n",
              "      <td>0.000000</td>\n",
              "      <td>0.0</td>\n",
              "      <td>0.0</td>\n",
              "      <td>0.0</td>\n",
              "      <td>0.0</td>\n",
              "      <td>0.0</td>\n",
              "      <td>0.0</td>\n",
              "      <td>0.000000</td>\n",
              "      <td>0.0</td>\n",
              "      <td>0.000000</td>\n",
              "      <td>0.000000</td>\n",
              "      <td>0.000000</td>\n",
              "      <td>0.0</td>\n",
              "      <td>0.0</td>\n",
              "      <td>0.0</td>\n",
              "      <td>0.0</td>\n",
              "      <td>0.0</td>\n",
              "      <td>0.0</td>\n",
              "      <td>0.0</td>\n",
              "      <td>0.000000</td>\n",
              "      <td>0.0</td>\n",
              "      <td>0.0</td>\n",
              "      <td>0.000000</td>\n",
              "      <td>0.0</td>\n",
              "    </tr>\n",
              "    <tr>\n",
              "      <th>--D8T8lqv2YnX8BebVQBdg</th>\n",
              "      <td>0.000000</td>\n",
              "      <td>0.000000</td>\n",
              "      <td>0.000000</td>\n",
              "      <td>0.0</td>\n",
              "      <td>0.0</td>\n",
              "      <td>0.0</td>\n",
              "      <td>0.0</td>\n",
              "      <td>0.0</td>\n",
              "      <td>0.053572</td>\n",
              "      <td>0.00000</td>\n",
              "      <td>0.0</td>\n",
              "      <td>0.0</td>\n",
              "      <td>0.0</td>\n",
              "      <td>0.0</td>\n",
              "      <td>0.0</td>\n",
              "      <td>0.000000</td>\n",
              "      <td>0.0</td>\n",
              "      <td>0.0</td>\n",
              "      <td>0.0</td>\n",
              "      <td>0.0</td>\n",
              "      <td>0.000000</td>\n",
              "      <td>0.0</td>\n",
              "      <td>0.074914</td>\n",
              "      <td>0.000000</td>\n",
              "      <td>0.0</td>\n",
              "      <td>0.0</td>\n",
              "      <td>0.0</td>\n",
              "      <td>0.0</td>\n",
              "      <td>0.000000</td>\n",
              "      <td>0.0</td>\n",
              "      <td>0.0</td>\n",
              "      <td>0.000000</td>\n",
              "      <td>0.0</td>\n",
              "      <td>0.00000</td>\n",
              "      <td>0.0</td>\n",
              "      <td>0.081660</td>\n",
              "      <td>0.0</td>\n",
              "      <td>0.0</td>\n",
              "      <td>0.0</td>\n",
              "      <td>0.000000</td>\n",
              "      <td>...</td>\n",
              "      <td>0.0</td>\n",
              "      <td>0.0</td>\n",
              "      <td>0.0</td>\n",
              "      <td>0.0</td>\n",
              "      <td>0.000000</td>\n",
              "      <td>0.0</td>\n",
              "      <td>0.000000</td>\n",
              "      <td>0.000000</td>\n",
              "      <td>0.0</td>\n",
              "      <td>0.0</td>\n",
              "      <td>0.0</td>\n",
              "      <td>0.0</td>\n",
              "      <td>0.0</td>\n",
              "      <td>0.0</td>\n",
              "      <td>0.0</td>\n",
              "      <td>0.0</td>\n",
              "      <td>0.000000</td>\n",
              "      <td>0.0</td>\n",
              "      <td>0.0</td>\n",
              "      <td>0.0</td>\n",
              "      <td>0.0</td>\n",
              "      <td>0.0</td>\n",
              "      <td>0.0</td>\n",
              "      <td>0.046757</td>\n",
              "      <td>0.0</td>\n",
              "      <td>0.000000</td>\n",
              "      <td>0.076031</td>\n",
              "      <td>0.000000</td>\n",
              "      <td>0.0</td>\n",
              "      <td>0.0</td>\n",
              "      <td>0.0</td>\n",
              "      <td>0.0</td>\n",
              "      <td>0.0</td>\n",
              "      <td>0.0</td>\n",
              "      <td>0.0</td>\n",
              "      <td>0.000000</td>\n",
              "      <td>0.0</td>\n",
              "      <td>0.0</td>\n",
              "      <td>0.000000</td>\n",
              "      <td>0.0</td>\n",
              "    </tr>\n",
              "    <tr>\n",
              "      <th>--Qh8yKWAvIP4V4K8ZPfHA</th>\n",
              "      <td>0.000000</td>\n",
              "      <td>0.000000</td>\n",
              "      <td>0.000000</td>\n",
              "      <td>0.0</td>\n",
              "      <td>0.0</td>\n",
              "      <td>0.0</td>\n",
              "      <td>0.0</td>\n",
              "      <td>0.0</td>\n",
              "      <td>0.000000</td>\n",
              "      <td>0.00000</td>\n",
              "      <td>0.0</td>\n",
              "      <td>0.0</td>\n",
              "      <td>0.0</td>\n",
              "      <td>0.0</td>\n",
              "      <td>0.0</td>\n",
              "      <td>0.000000</td>\n",
              "      <td>0.0</td>\n",
              "      <td>0.0</td>\n",
              "      <td>0.0</td>\n",
              "      <td>0.0</td>\n",
              "      <td>0.000000</td>\n",
              "      <td>0.0</td>\n",
              "      <td>0.000000</td>\n",
              "      <td>0.000000</td>\n",
              "      <td>0.0</td>\n",
              "      <td>0.0</td>\n",
              "      <td>0.0</td>\n",
              "      <td>0.0</td>\n",
              "      <td>0.000000</td>\n",
              "      <td>0.0</td>\n",
              "      <td>0.0</td>\n",
              "      <td>0.094871</td>\n",
              "      <td>0.0</td>\n",
              "      <td>0.00000</td>\n",
              "      <td>0.0</td>\n",
              "      <td>0.000000</td>\n",
              "      <td>0.0</td>\n",
              "      <td>0.0</td>\n",
              "      <td>0.0</td>\n",
              "      <td>0.000000</td>\n",
              "      <td>...</td>\n",
              "      <td>0.0</td>\n",
              "      <td>0.0</td>\n",
              "      <td>0.0</td>\n",
              "      <td>0.0</td>\n",
              "      <td>0.043559</td>\n",
              "      <td>0.0</td>\n",
              "      <td>0.000000</td>\n",
              "      <td>0.000000</td>\n",
              "      <td>0.0</td>\n",
              "      <td>0.0</td>\n",
              "      <td>0.0</td>\n",
              "      <td>0.0</td>\n",
              "      <td>0.0</td>\n",
              "      <td>0.0</td>\n",
              "      <td>0.0</td>\n",
              "      <td>0.0</td>\n",
              "      <td>0.000000</td>\n",
              "      <td>0.0</td>\n",
              "      <td>0.0</td>\n",
              "      <td>0.0</td>\n",
              "      <td>0.0</td>\n",
              "      <td>0.0</td>\n",
              "      <td>0.0</td>\n",
              "      <td>0.000000</td>\n",
              "      <td>0.0</td>\n",
              "      <td>0.000000</td>\n",
              "      <td>0.000000</td>\n",
              "      <td>0.000000</td>\n",
              "      <td>0.0</td>\n",
              "      <td>0.0</td>\n",
              "      <td>0.0</td>\n",
              "      <td>0.0</td>\n",
              "      <td>0.0</td>\n",
              "      <td>0.0</td>\n",
              "      <td>0.0</td>\n",
              "      <td>0.000000</td>\n",
              "      <td>0.0</td>\n",
              "      <td>0.0</td>\n",
              "      <td>0.000000</td>\n",
              "      <td>0.0</td>\n",
              "    </tr>\n",
              "    <tr>\n",
              "      <th>-05XqtNjcBq19vh2CVJN8g</th>\n",
              "      <td>0.000000</td>\n",
              "      <td>0.000000</td>\n",
              "      <td>0.000000</td>\n",
              "      <td>0.0</td>\n",
              "      <td>0.0</td>\n",
              "      <td>0.0</td>\n",
              "      <td>0.0</td>\n",
              "      <td>0.0</td>\n",
              "      <td>0.000000</td>\n",
              "      <td>0.00000</td>\n",
              "      <td>0.0</td>\n",
              "      <td>0.0</td>\n",
              "      <td>0.0</td>\n",
              "      <td>0.0</td>\n",
              "      <td>0.0</td>\n",
              "      <td>0.090589</td>\n",
              "      <td>0.0</td>\n",
              "      <td>0.0</td>\n",
              "      <td>0.0</td>\n",
              "      <td>0.0</td>\n",
              "      <td>0.000000</td>\n",
              "      <td>0.0</td>\n",
              "      <td>0.000000</td>\n",
              "      <td>0.000000</td>\n",
              "      <td>0.0</td>\n",
              "      <td>0.0</td>\n",
              "      <td>0.0</td>\n",
              "      <td>0.0</td>\n",
              "      <td>0.000000</td>\n",
              "      <td>0.0</td>\n",
              "      <td>0.0</td>\n",
              "      <td>0.000000</td>\n",
              "      <td>0.0</td>\n",
              "      <td>0.00000</td>\n",
              "      <td>0.0</td>\n",
              "      <td>0.000000</td>\n",
              "      <td>0.0</td>\n",
              "      <td>0.0</td>\n",
              "      <td>0.0</td>\n",
              "      <td>0.000000</td>\n",
              "      <td>...</td>\n",
              "      <td>0.0</td>\n",
              "      <td>0.0</td>\n",
              "      <td>0.0</td>\n",
              "      <td>0.0</td>\n",
              "      <td>0.000000</td>\n",
              "      <td>0.0</td>\n",
              "      <td>0.000000</td>\n",
              "      <td>0.000000</td>\n",
              "      <td>0.0</td>\n",
              "      <td>0.0</td>\n",
              "      <td>0.0</td>\n",
              "      <td>0.0</td>\n",
              "      <td>0.0</td>\n",
              "      <td>0.0</td>\n",
              "      <td>0.0</td>\n",
              "      <td>0.0</td>\n",
              "      <td>0.000000</td>\n",
              "      <td>0.0</td>\n",
              "      <td>0.0</td>\n",
              "      <td>0.0</td>\n",
              "      <td>0.0</td>\n",
              "      <td>0.0</td>\n",
              "      <td>0.0</td>\n",
              "      <td>0.000000</td>\n",
              "      <td>0.0</td>\n",
              "      <td>0.000000</td>\n",
              "      <td>0.000000</td>\n",
              "      <td>0.000000</td>\n",
              "      <td>0.0</td>\n",
              "      <td>0.0</td>\n",
              "      <td>0.0</td>\n",
              "      <td>0.0</td>\n",
              "      <td>0.0</td>\n",
              "      <td>0.0</td>\n",
              "      <td>0.0</td>\n",
              "      <td>0.119181</td>\n",
              "      <td>0.0</td>\n",
              "      <td>0.0</td>\n",
              "      <td>0.000000</td>\n",
              "      <td>0.0</td>\n",
              "    </tr>\n",
              "    <tr>\n",
              "      <th>...</th>\n",
              "      <td>...</td>\n",
              "      <td>...</td>\n",
              "      <td>...</td>\n",
              "      <td>...</td>\n",
              "      <td>...</td>\n",
              "      <td>...</td>\n",
              "      <td>...</td>\n",
              "      <td>...</td>\n",
              "      <td>...</td>\n",
              "      <td>...</td>\n",
              "      <td>...</td>\n",
              "      <td>...</td>\n",
              "      <td>...</td>\n",
              "      <td>...</td>\n",
              "      <td>...</td>\n",
              "      <td>...</td>\n",
              "      <td>...</td>\n",
              "      <td>...</td>\n",
              "      <td>...</td>\n",
              "      <td>...</td>\n",
              "      <td>...</td>\n",
              "      <td>...</td>\n",
              "      <td>...</td>\n",
              "      <td>...</td>\n",
              "      <td>...</td>\n",
              "      <td>...</td>\n",
              "      <td>...</td>\n",
              "      <td>...</td>\n",
              "      <td>...</td>\n",
              "      <td>...</td>\n",
              "      <td>...</td>\n",
              "      <td>...</td>\n",
              "      <td>...</td>\n",
              "      <td>...</td>\n",
              "      <td>...</td>\n",
              "      <td>...</td>\n",
              "      <td>...</td>\n",
              "      <td>...</td>\n",
              "      <td>...</td>\n",
              "      <td>...</td>\n",
              "      <td>...</td>\n",
              "      <td>...</td>\n",
              "      <td>...</td>\n",
              "      <td>...</td>\n",
              "      <td>...</td>\n",
              "      <td>...</td>\n",
              "      <td>...</td>\n",
              "      <td>...</td>\n",
              "      <td>...</td>\n",
              "      <td>...</td>\n",
              "      <td>...</td>\n",
              "      <td>...</td>\n",
              "      <td>...</td>\n",
              "      <td>...</td>\n",
              "      <td>...</td>\n",
              "      <td>...</td>\n",
              "      <td>...</td>\n",
              "      <td>...</td>\n",
              "      <td>...</td>\n",
              "      <td>...</td>\n",
              "      <td>...</td>\n",
              "      <td>...</td>\n",
              "      <td>...</td>\n",
              "      <td>...</td>\n",
              "      <td>...</td>\n",
              "      <td>...</td>\n",
              "      <td>...</td>\n",
              "      <td>...</td>\n",
              "      <td>...</td>\n",
              "      <td>...</td>\n",
              "      <td>...</td>\n",
              "      <td>...</td>\n",
              "      <td>...</td>\n",
              "      <td>...</td>\n",
              "      <td>...</td>\n",
              "      <td>...</td>\n",
              "      <td>...</td>\n",
              "      <td>...</td>\n",
              "      <td>...</td>\n",
              "      <td>...</td>\n",
              "      <td>...</td>\n",
              "    </tr>\n",
              "    <tr>\n",
              "      <th>zyjyUDOW9IhMwNQ-PubOqw</th>\n",
              "      <td>0.000000</td>\n",
              "      <td>0.000000</td>\n",
              "      <td>0.000000</td>\n",
              "      <td>0.0</td>\n",
              "      <td>0.0</td>\n",
              "      <td>0.0</td>\n",
              "      <td>0.0</td>\n",
              "      <td>0.0</td>\n",
              "      <td>0.000000</td>\n",
              "      <td>0.00000</td>\n",
              "      <td>0.0</td>\n",
              "      <td>0.0</td>\n",
              "      <td>0.0</td>\n",
              "      <td>0.0</td>\n",
              "      <td>0.0</td>\n",
              "      <td>0.000000</td>\n",
              "      <td>0.0</td>\n",
              "      <td>0.0</td>\n",
              "      <td>0.0</td>\n",
              "      <td>0.0</td>\n",
              "      <td>0.000000</td>\n",
              "      <td>0.0</td>\n",
              "      <td>0.000000</td>\n",
              "      <td>0.000000</td>\n",
              "      <td>0.0</td>\n",
              "      <td>0.0</td>\n",
              "      <td>0.0</td>\n",
              "      <td>0.0</td>\n",
              "      <td>0.000000</td>\n",
              "      <td>0.0</td>\n",
              "      <td>0.0</td>\n",
              "      <td>0.000000</td>\n",
              "      <td>0.0</td>\n",
              "      <td>0.00000</td>\n",
              "      <td>0.0</td>\n",
              "      <td>0.000000</td>\n",
              "      <td>0.0</td>\n",
              "      <td>0.0</td>\n",
              "      <td>0.0</td>\n",
              "      <td>0.000000</td>\n",
              "      <td>...</td>\n",
              "      <td>0.0</td>\n",
              "      <td>0.0</td>\n",
              "      <td>0.0</td>\n",
              "      <td>0.0</td>\n",
              "      <td>0.000000</td>\n",
              "      <td>0.0</td>\n",
              "      <td>0.000000</td>\n",
              "      <td>0.000000</td>\n",
              "      <td>0.0</td>\n",
              "      <td>0.0</td>\n",
              "      <td>0.0</td>\n",
              "      <td>0.0</td>\n",
              "      <td>0.0</td>\n",
              "      <td>0.0</td>\n",
              "      <td>0.0</td>\n",
              "      <td>0.0</td>\n",
              "      <td>0.164492</td>\n",
              "      <td>0.0</td>\n",
              "      <td>0.0</td>\n",
              "      <td>0.0</td>\n",
              "      <td>0.0</td>\n",
              "      <td>0.0</td>\n",
              "      <td>0.0</td>\n",
              "      <td>0.000000</td>\n",
              "      <td>0.0</td>\n",
              "      <td>0.000000</td>\n",
              "      <td>0.000000</td>\n",
              "      <td>0.000000</td>\n",
              "      <td>0.0</td>\n",
              "      <td>0.0</td>\n",
              "      <td>0.0</td>\n",
              "      <td>0.0</td>\n",
              "      <td>0.0</td>\n",
              "      <td>0.0</td>\n",
              "      <td>0.0</td>\n",
              "      <td>0.000000</td>\n",
              "      <td>0.0</td>\n",
              "      <td>0.0</td>\n",
              "      <td>0.000000</td>\n",
              "      <td>0.0</td>\n",
              "    </tr>\n",
              "    <tr>\n",
              "      <th>zzPvEodjvLPe-5NvV0U_cg</th>\n",
              "      <td>0.092133</td>\n",
              "      <td>0.029552</td>\n",
              "      <td>0.042705</td>\n",
              "      <td>0.0</td>\n",
              "      <td>0.0</td>\n",
              "      <td>0.0</td>\n",
              "      <td>0.0</td>\n",
              "      <td>0.0</td>\n",
              "      <td>0.034470</td>\n",
              "      <td>0.05367</td>\n",
              "      <td>0.0</td>\n",
              "      <td>0.0</td>\n",
              "      <td>0.0</td>\n",
              "      <td>0.0</td>\n",
              "      <td>0.0</td>\n",
              "      <td>0.025100</td>\n",
              "      <td>0.0</td>\n",
              "      <td>0.0</td>\n",
              "      <td>0.0</td>\n",
              "      <td>0.0</td>\n",
              "      <td>0.040543</td>\n",
              "      <td>0.0</td>\n",
              "      <td>0.000000</td>\n",
              "      <td>0.025636</td>\n",
              "      <td>0.0</td>\n",
              "      <td>0.0</td>\n",
              "      <td>0.0</td>\n",
              "      <td>0.0</td>\n",
              "      <td>0.000000</td>\n",
              "      <td>0.0</td>\n",
              "      <td>0.0</td>\n",
              "      <td>0.056332</td>\n",
              "      <td>0.0</td>\n",
              "      <td>0.04034</td>\n",
              "      <td>0.0</td>\n",
              "      <td>0.026272</td>\n",
              "      <td>0.0</td>\n",
              "      <td>0.0</td>\n",
              "      <td>0.0</td>\n",
              "      <td>0.054992</td>\n",
              "      <td>...</td>\n",
              "      <td>0.0</td>\n",
              "      <td>0.0</td>\n",
              "      <td>0.0</td>\n",
              "      <td>0.0</td>\n",
              "      <td>0.077594</td>\n",
              "      <td>0.0</td>\n",
              "      <td>0.104467</td>\n",
              "      <td>0.000000</td>\n",
              "      <td>0.0</td>\n",
              "      <td>0.0</td>\n",
              "      <td>0.0</td>\n",
              "      <td>0.0</td>\n",
              "      <td>0.0</td>\n",
              "      <td>0.0</td>\n",
              "      <td>0.0</td>\n",
              "      <td>0.0</td>\n",
              "      <td>0.000000</td>\n",
              "      <td>0.0</td>\n",
              "      <td>0.0</td>\n",
              "      <td>0.0</td>\n",
              "      <td>0.0</td>\n",
              "      <td>0.0</td>\n",
              "      <td>0.0</td>\n",
              "      <td>0.000000</td>\n",
              "      <td>0.0</td>\n",
              "      <td>0.034031</td>\n",
              "      <td>0.000000</td>\n",
              "      <td>0.000000</td>\n",
              "      <td>0.0</td>\n",
              "      <td>0.0</td>\n",
              "      <td>0.0</td>\n",
              "      <td>0.0</td>\n",
              "      <td>0.0</td>\n",
              "      <td>0.0</td>\n",
              "      <td>0.0</td>\n",
              "      <td>0.000000</td>\n",
              "      <td>0.0</td>\n",
              "      <td>0.0</td>\n",
              "      <td>0.000000</td>\n",
              "      <td>0.0</td>\n",
              "    </tr>\n",
              "    <tr>\n",
              "      <th>zzitZPIJBmyxt8DefrJygg</th>\n",
              "      <td>0.000000</td>\n",
              "      <td>0.000000</td>\n",
              "      <td>0.000000</td>\n",
              "      <td>0.0</td>\n",
              "      <td>0.0</td>\n",
              "      <td>0.0</td>\n",
              "      <td>0.0</td>\n",
              "      <td>0.0</td>\n",
              "      <td>0.000000</td>\n",
              "      <td>0.00000</td>\n",
              "      <td>0.0</td>\n",
              "      <td>0.0</td>\n",
              "      <td>0.0</td>\n",
              "      <td>0.0</td>\n",
              "      <td>0.0</td>\n",
              "      <td>0.000000</td>\n",
              "      <td>0.0</td>\n",
              "      <td>0.0</td>\n",
              "      <td>0.0</td>\n",
              "      <td>0.0</td>\n",
              "      <td>0.000000</td>\n",
              "      <td>0.0</td>\n",
              "      <td>0.000000</td>\n",
              "      <td>0.000000</td>\n",
              "      <td>0.0</td>\n",
              "      <td>0.0</td>\n",
              "      <td>0.0</td>\n",
              "      <td>0.0</td>\n",
              "      <td>0.000000</td>\n",
              "      <td>0.0</td>\n",
              "      <td>0.0</td>\n",
              "      <td>0.000000</td>\n",
              "      <td>0.0</td>\n",
              "      <td>0.00000</td>\n",
              "      <td>0.0</td>\n",
              "      <td>0.000000</td>\n",
              "      <td>0.0</td>\n",
              "      <td>0.0</td>\n",
              "      <td>0.0</td>\n",
              "      <td>0.000000</td>\n",
              "      <td>...</td>\n",
              "      <td>0.0</td>\n",
              "      <td>0.0</td>\n",
              "      <td>0.0</td>\n",
              "      <td>0.0</td>\n",
              "      <td>0.000000</td>\n",
              "      <td>0.0</td>\n",
              "      <td>0.000000</td>\n",
              "      <td>0.000000</td>\n",
              "      <td>0.0</td>\n",
              "      <td>0.0</td>\n",
              "      <td>0.0</td>\n",
              "      <td>0.0</td>\n",
              "      <td>0.0</td>\n",
              "      <td>0.0</td>\n",
              "      <td>0.0</td>\n",
              "      <td>0.0</td>\n",
              "      <td>0.000000</td>\n",
              "      <td>0.0</td>\n",
              "      <td>0.0</td>\n",
              "      <td>0.0</td>\n",
              "      <td>0.0</td>\n",
              "      <td>0.0</td>\n",
              "      <td>0.0</td>\n",
              "      <td>0.000000</td>\n",
              "      <td>0.0</td>\n",
              "      <td>0.000000</td>\n",
              "      <td>0.000000</td>\n",
              "      <td>0.000000</td>\n",
              "      <td>0.0</td>\n",
              "      <td>0.0</td>\n",
              "      <td>0.0</td>\n",
              "      <td>0.0</td>\n",
              "      <td>0.0</td>\n",
              "      <td>0.0</td>\n",
              "      <td>0.0</td>\n",
              "      <td>0.000000</td>\n",
              "      <td>0.0</td>\n",
              "      <td>0.0</td>\n",
              "      <td>0.000000</td>\n",
              "      <td>0.0</td>\n",
              "    </tr>\n",
              "    <tr>\n",
              "      <th>zzo--VpSQh8PpsGVeMC1dQ</th>\n",
              "      <td>0.000000</td>\n",
              "      <td>0.000000</td>\n",
              "      <td>0.000000</td>\n",
              "      <td>0.0</td>\n",
              "      <td>0.0</td>\n",
              "      <td>0.0</td>\n",
              "      <td>0.0</td>\n",
              "      <td>0.0</td>\n",
              "      <td>0.000000</td>\n",
              "      <td>0.00000</td>\n",
              "      <td>0.0</td>\n",
              "      <td>0.0</td>\n",
              "      <td>0.0</td>\n",
              "      <td>0.0</td>\n",
              "      <td>0.0</td>\n",
              "      <td>0.000000</td>\n",
              "      <td>0.0</td>\n",
              "      <td>0.0</td>\n",
              "      <td>0.0</td>\n",
              "      <td>0.0</td>\n",
              "      <td>0.000000</td>\n",
              "      <td>0.0</td>\n",
              "      <td>0.000000</td>\n",
              "      <td>0.037720</td>\n",
              "      <td>0.0</td>\n",
              "      <td>0.0</td>\n",
              "      <td>0.0</td>\n",
              "      <td>0.0</td>\n",
              "      <td>0.061224</td>\n",
              "      <td>0.0</td>\n",
              "      <td>0.0</td>\n",
              "      <td>0.041443</td>\n",
              "      <td>0.0</td>\n",
              "      <td>0.00000</td>\n",
              "      <td>0.0</td>\n",
              "      <td>0.000000</td>\n",
              "      <td>0.0</td>\n",
              "      <td>0.0</td>\n",
              "      <td>0.0</td>\n",
              "      <td>0.000000</td>\n",
              "      <td>...</td>\n",
              "      <td>0.0</td>\n",
              "      <td>0.0</td>\n",
              "      <td>0.0</td>\n",
              "      <td>0.0</td>\n",
              "      <td>0.000000</td>\n",
              "      <td>0.0</td>\n",
              "      <td>0.051237</td>\n",
              "      <td>0.071681</td>\n",
              "      <td>0.0</td>\n",
              "      <td>0.0</td>\n",
              "      <td>0.0</td>\n",
              "      <td>0.0</td>\n",
              "      <td>0.0</td>\n",
              "      <td>0.0</td>\n",
              "      <td>0.0</td>\n",
              "      <td>0.0</td>\n",
              "      <td>0.000000</td>\n",
              "      <td>0.0</td>\n",
              "      <td>0.0</td>\n",
              "      <td>0.0</td>\n",
              "      <td>0.0</td>\n",
              "      <td>0.0</td>\n",
              "      <td>0.0</td>\n",
              "      <td>0.000000</td>\n",
              "      <td>0.0</td>\n",
              "      <td>0.000000</td>\n",
              "      <td>0.000000</td>\n",
              "      <td>0.049334</td>\n",
              "      <td>0.0</td>\n",
              "      <td>0.0</td>\n",
              "      <td>0.0</td>\n",
              "      <td>0.0</td>\n",
              "      <td>0.0</td>\n",
              "      <td>0.0</td>\n",
              "      <td>0.0</td>\n",
              "      <td>0.000000</td>\n",
              "      <td>0.0</td>\n",
              "      <td>0.0</td>\n",
              "      <td>0.000000</td>\n",
              "      <td>0.0</td>\n",
              "    </tr>\n",
              "    <tr>\n",
              "      <th>zzpgpo54-_P-4rzzBtOuLQ</th>\n",
              "      <td>0.000000</td>\n",
              "      <td>0.000000</td>\n",
              "      <td>0.000000</td>\n",
              "      <td>0.0</td>\n",
              "      <td>0.0</td>\n",
              "      <td>0.0</td>\n",
              "      <td>0.0</td>\n",
              "      <td>0.0</td>\n",
              "      <td>0.000000</td>\n",
              "      <td>0.00000</td>\n",
              "      <td>0.0</td>\n",
              "      <td>0.0</td>\n",
              "      <td>0.0</td>\n",
              "      <td>0.0</td>\n",
              "      <td>0.0</td>\n",
              "      <td>0.000000</td>\n",
              "      <td>0.0</td>\n",
              "      <td>0.0</td>\n",
              "      <td>0.0</td>\n",
              "      <td>0.0</td>\n",
              "      <td>0.000000</td>\n",
              "      <td>0.0</td>\n",
              "      <td>0.000000</td>\n",
              "      <td>0.000000</td>\n",
              "      <td>0.0</td>\n",
              "      <td>0.0</td>\n",
              "      <td>0.0</td>\n",
              "      <td>0.0</td>\n",
              "      <td>0.000000</td>\n",
              "      <td>0.0</td>\n",
              "      <td>0.0</td>\n",
              "      <td>0.000000</td>\n",
              "      <td>0.0</td>\n",
              "      <td>0.00000</td>\n",
              "      <td>0.0</td>\n",
              "      <td>0.000000</td>\n",
              "      <td>0.0</td>\n",
              "      <td>0.0</td>\n",
              "      <td>0.0</td>\n",
              "      <td>0.000000</td>\n",
              "      <td>...</td>\n",
              "      <td>0.0</td>\n",
              "      <td>0.0</td>\n",
              "      <td>0.0</td>\n",
              "      <td>0.0</td>\n",
              "      <td>0.000000</td>\n",
              "      <td>0.0</td>\n",
              "      <td>0.000000</td>\n",
              "      <td>0.000000</td>\n",
              "      <td>0.0</td>\n",
              "      <td>0.0</td>\n",
              "      <td>0.0</td>\n",
              "      <td>0.0</td>\n",
              "      <td>0.0</td>\n",
              "      <td>0.0</td>\n",
              "      <td>0.0</td>\n",
              "      <td>0.0</td>\n",
              "      <td>0.000000</td>\n",
              "      <td>0.0</td>\n",
              "      <td>0.0</td>\n",
              "      <td>0.0</td>\n",
              "      <td>0.0</td>\n",
              "      <td>0.0</td>\n",
              "      <td>0.0</td>\n",
              "      <td>0.000000</td>\n",
              "      <td>0.0</td>\n",
              "      <td>0.000000</td>\n",
              "      <td>0.000000</td>\n",
              "      <td>0.000000</td>\n",
              "      <td>0.0</td>\n",
              "      <td>0.0</td>\n",
              "      <td>0.0</td>\n",
              "      <td>0.0</td>\n",
              "      <td>0.0</td>\n",
              "      <td>0.0</td>\n",
              "      <td>0.0</td>\n",
              "      <td>0.000000</td>\n",
              "      <td>0.0</td>\n",
              "      <td>0.0</td>\n",
              "      <td>0.516344</td>\n",
              "      <td>0.0</td>\n",
              "    </tr>\n",
              "  </tbody>\n",
              "</table>\n",
              "<p>14801 rows × 3200 columns</p>\n",
              "</div>"
            ],
            "text/plain": [
              "                               1        10       100  ...  zucchini         à  était\n",
              "user_id                                               ...                           \n",
              "--2HUmLkcNHZp0xw6AMBPg  0.000000  0.000000  0.000000  ...       0.0  0.000000    0.0\n",
              "--BumyUHiO_7YsHurb9Hkw  0.000000  0.000000  0.000000  ...       0.0  0.000000    0.0\n",
              "--D8T8lqv2YnX8BebVQBdg  0.000000  0.000000  0.000000  ...       0.0  0.000000    0.0\n",
              "--Qh8yKWAvIP4V4K8ZPfHA  0.000000  0.000000  0.000000  ...       0.0  0.000000    0.0\n",
              "-05XqtNjcBq19vh2CVJN8g  0.000000  0.000000  0.000000  ...       0.0  0.000000    0.0\n",
              "...                          ...       ...       ...  ...       ...       ...    ...\n",
              "zyjyUDOW9IhMwNQ-PubOqw  0.000000  0.000000  0.000000  ...       0.0  0.000000    0.0\n",
              "zzPvEodjvLPe-5NvV0U_cg  0.092133  0.029552  0.042705  ...       0.0  0.000000    0.0\n",
              "zzitZPIJBmyxt8DefrJygg  0.000000  0.000000  0.000000  ...       0.0  0.000000    0.0\n",
              "zzo--VpSQh8PpsGVeMC1dQ  0.000000  0.000000  0.000000  ...       0.0  0.000000    0.0\n",
              "zzpgpo54-_P-4rzzBtOuLQ  0.000000  0.000000  0.000000  ...       0.0  0.516344    0.0\n",
              "\n",
              "[14801 rows x 3200 columns]"
            ]
          },
          "metadata": {
            "tags": []
          },
          "execution_count": 46
        }
      ]
    },
    {
      "cell_type": "code",
      "metadata": {
        "id": "oxHaX-Zu9oPN",
        "colab_type": "code",
        "colab": {}
      },
      "source": [
        "def matrix_factorization(R, P, Q, steps=40, gamma=0.001,lamda=0.02):\n",
        "    for step in range(steps):\n",
        "        for i in R.index:\n",
        "            for j in R.columns:\n",
        "                if R.loc[i,j]>0:\n",
        "                    eij=R.loc[i,j]-np.dot(P.loc[i],Q.loc[j])\n",
        "                    P.loc[i]=P.loc[i]+gamma*(eij*Q.loc[j]-lamda*P.loc[i])\n",
        "                    \n",
        "                    Q.loc[j]=Q.loc[j]+gamma*(eij*P.loc[i]-lamda*Q.loc[j])\n",
        "        err=0\n",
        "        N=0\n",
        "        for i in R.index:\n",
        "            for j in R.columns:\n",
        "                if R.loc[i,j]>0:\n",
        "                    err= err + pow(R.loc[i,j]-np.dot(P.loc[i],Q.loc[j]),2)\n",
        "                    N=N+1\n",
        "        e=err/N\n",
        "        if e<0.001:\n",
        "            print('error reduced')\n",
        "            break\n",
        "        if(step%1==0):\n",
        "          output = open('P_Q.pkl', 'wb')\n",
        "          pickle.dump(P,output)\n",
        "          pickle.dump(Q,output)\n",
        "          output.close()\n",
        "          print(step)\n",
        "          print(e)\n",
        "    return P,Q"
      ],
      "execution_count": 0,
      "outputs": []
    },
    {
      "cell_type": "code",
      "metadata": {
        "id": "eOcEP4S0QT8d",
        "colab_type": "code",
        "colab": {}
      },
      "source": [
        "import pickle"
      ],
      "execution_count": 0,
      "outputs": []
    },
    {
      "cell_type": "code",
      "metadata": {
        "id": "V4y984bwwxE9",
        "colab_type": "code",
        "colab": {}
      },
      "source": [
        "P, Q = matrix_factorization(userid_rating_matrix, P, Q, steps=50, gamma=0.01,lamda=0.01)"
      ],
      "execution_count": 0,
      "outputs": []
    },
    {
      "cell_type": "code",
      "metadata": {
        "id": "xtpRh55U9oMt",
        "colab_type": "code",
        "colab": {}
      },
      "source": [
        "\n",
        "%%time\n",
        "# P, Q = matrix_factorization(userid_rating_matrix, P, Q, steps=25, gamma=0.01,lamda=0.02)"
      ],
      "execution_count": 0,
      "outputs": []
    },
    {
      "cell_type": "code",
      "metadata": {
        "id": "bpGLqyT2b_PQ",
        "colab_type": "code",
        "colab": {}
      },
      "source": [
        ""
      ],
      "execution_count": 0,
      "outputs": []
    },
    {
      "cell_type": "code",
      "metadata": {
        "id": "0bVqk8Qd9oJ_",
        "colab_type": "code",
        "outputId": "8b6a4363-4b8d-4a04-b1d0-e9db182187c7",
        "colab": {
          "base_uri": "https://localhost:8080/",
          "height": 202
        }
      },
      "source": [
        "Q.iloc[0].sort_values(ascending=False).head(10)"
      ],
      "execution_count": 0,
      "outputs": [
        {
          "output_type": "execute_result",
          "data": {
            "text/plain": [
              "aloha    0.775763\n",
              "hash     0.684916\n",
              "like     0.667090\n",
              "kalua    0.619905\n",
              "chow     0.615568\n",
              "pork     0.551984\n",
              "food     0.526274\n",
              "spam     0.513472\n",
              "back     0.481753\n",
              "good     0.451520\n",
              "Name: 096iGHoQ-UImxUExuyqlZA, dtype: float64"
            ]
          },
          "metadata": {
            "tags": []
          },
          "execution_count": 180
        }
      ]
    },
    {
      "cell_type": "code",
      "metadata": {
        "id": "CjbYtpLLGhLp",
        "colab_type": "code",
        "colab": {}
      },
      "source": [
        "import pickle\n",
        "pickle_in = open(\"/content/drive/My Drive/recommender/P_Q_new.pkl\",\"rb\")\n",
        "P= pickle.load(pickle_in)\n",
        "Q=pickle.load(pickle_in)\n",
        "\n",
        "pickle_in.close()"
      ],
      "execution_count": 0,
      "outputs": []
    },
    {
      "cell_type": "code",
      "metadata": {
        "id": "TEYybTgW9_e1",
        "colab_type": "code",
        "colab": {}
      },
      "source": [
        "# # Store P, Q and vectorizer in pickle file\n",
        "# import pickle\n",
        "# output = open('yelp_recommendation.pkl', 'wb')\n",
        "# pickle.dump(P,output,protocol=2)\n",
        "# pickle.dump(Q,output,protocol=2)\n",
        "# pickle.dump(userid_vectorizer,output,protocol=2)\n",
        "# output.close()"
      ],
      "execution_count": 0,
      "outputs": []
    },
    {
      "cell_type": "code",
      "metadata": {
        "id": "_d13WiFsSVnn",
        "colab_type": "code",
        "colab": {}
      },
      "source": [
        ""
      ],
      "execution_count": 0,
      "outputs": []
    },
    {
      "cell_type": "code",
      "metadata": {
        "id": "kbpJsj_ISVWV",
        "colab_type": "code",
        "colab": {}
      },
      "source": [
        ""
      ],
      "execution_count": 0,
      "outputs": []
    },
    {
      "cell_type": "code",
      "metadata": {
        "id": "cjL1MK0XfKr4",
        "colab_type": "code",
        "colab": {}
      },
      "source": [
        "def weighted_rating(x,C,m):\n",
        "  v=x['RatingCount']\n",
        "  R=x['stars']\n",
        "  # C=data_business['stars'].mean()\n",
        "  # m=data_business['RatingCount'].quantile(0.90)\n",
        "  w_r=(v/(v+m))*R + (m/(v+m))*C\n",
        "  # w_r.sort_values(by=['score'], inplace=True)\n",
        "  return w_r"
      ],
      "execution_count": 0,
      "outputs": []
    },
    {
      "cell_type": "code",
      "metadata": {
        "id": "8bkxu0GDZ5H5",
        "colab_type": "code",
        "colab": {}
      },
      "source": [
        "def User_Rating(user_id,CITY):\n",
        "  flag=0\n",
        "  # words = userid_df.loc[user_id]['text']\n",
        "  # test_df= pd.DataFrame([words], columns=['text'])\n",
        "  # test_df['text'] = test_df['text'].apply(text_process)\n",
        "  # test_vectors = userid_vectorizer.transform(test_df['text'])  \n",
        "  # test_v_df = pd.DataFrame(test_vectors.toarray(), index=test_df.index, columns=userid_vectorizer.get_feature_names())\n",
        "  # print(test_v_df)\n",
        "  if user_id in P.index:\n",
        "    test_v_df1=pd.DataFrame(P.loc[P.index==user_id])\n",
        "    test_v_df1=test_v_df1.reset_index(drop=True)\n",
        "\n",
        "    predictItemRating=pd.DataFrame(np.dot(test_v_df1.loc[0],Q.T),index=Q.index,columns=['Rating'])\n",
        "    topRecommendations=pd.DataFrame.sort_values(predictItemRating,['Rating'],ascending=[0])\n",
        "  # print(topRecommendations)\n",
        "    to_return=[]\n",
        "    for i in topRecommendations.index:\n",
        "      if flag==5:\n",
        "        break\n",
        "      if databusiness[databusiness['business_id']==i]['city'].any()==CITY.lower():\n",
        "      # print(data_business[data_business['business_id']==i]['name'].iloc[0])\n",
        "      # print('Categories : '+data_business[data_business['business_id']==i]['categories'].iloc[0])\n",
        "      # print(str(data_business[data_business['business_id']==i]['stars'].iloc[0])+ ' '+str(data_business[data_business['business_id']==i]['review_count'].iloc[0]))\n",
        "      # print('')\n",
        "        flag=flag+1\n",
        "        to_return.append({\n",
        "          'Restaurant':databusiness[databusiness['business_id']==i]['name'].iloc[0],\n",
        "          'Categories':databusiness[databusiness['business_id']==i]['categories'].iloc[0],\n",
        "          'rating':databusiness[databusiness['business_id']==i]['stars'].iloc[0],\n",
        "          'RatingCount':databusiness[databusiness['business_id']==i]['RatingCount'].iloc[0]\n",
        "                 })      \n",
        "    \n",
        "    if flag==0:\n",
        "      print('no restaurant in the city')\n",
        "    return to_return\n",
        "  else:\n",
        "    weighted_data=databusiness.loc[databusiness['city']==CITY.lower()]\n",
        "    C=weighted_data['stars'].mean()\n",
        "    m=weighted_data['RatingCount'].quantile(0.90)\n",
        "    qualified_rest=weighted_data.copy().loc[weighted_data['RatingCount'] >= m]  \n",
        "\n",
        "    qualified_rest['score'] =weighted_rating(qualified_rest,C,m)\n",
        "    # qualified_rest['score'] = qualified_rest.apply(weighted_rating, axis=1)\n",
        "    qualified_rest.sort_values(by=['score'], inplace=True,ascending=False)\n",
        "    qualified_rest=pd.DataFrame(qualified_rest).drop(['business_id'],axis=1).reset_index(drop=True)\n",
        "    top_5=qualified_rest[:5]\n",
        "    return top_5"
      ],
      "execution_count": 0,
      "outputs": []
    },
    {
      "cell_type": "code",
      "metadata": {
        "id": "d7762U6c9_Zp",
        "colab_type": "code",
        "colab": {}
      },
      "source": [
        "t=User_Rating('xd0ZjCAAOoBnjfZnDKGlEA','kochi')"
      ],
      "execution_count": 0,
      "outputs": []
    },
    {
      "cell_type": "code",
      "metadata": {
        "id": "p7N8aryW64I8",
        "colab_type": "code",
        "outputId": "74c680ea-7583-43c1-b833-1525ddec2eef",
        "colab": {
          "base_uri": "https://localhost:8080/",
          "height": 353
        }
      },
      "source": [
        "t"
      ],
      "execution_count": 0,
      "outputs": [
        {
          "output_type": "execute_result",
          "data": {
            "text/plain": [
              "[{'Categories': 'Caterers, Hot Dogs, Restaurants, Vegetarian, American (Traditional), Event Planning & Services',\n",
              "  'RatingCount': 380,\n",
              "  'Restaurant': \"JJ's Red Hots - Dilworth\",\n",
              "  'rating': 4.0},\n",
              " {'Categories': 'Indian, Restaurants',\n",
              "  'RatingCount': 497,\n",
              "  'Restaurant': 'Marigold Maison- Paradise Valley',\n",
              "  'rating': 4.0},\n",
              " {'Categories': 'Burgers, Restaurants, American (New), Bars, American (Traditional), Nightlife',\n",
              "  'RatingCount': 102,\n",
              "  'Restaurant': 'The Turnhouse Grille',\n",
              "  'rating': 4.5},\n",
              " {'Categories': 'American (Traditional), Burgers, Restaurants',\n",
              "  'RatingCount': 114,\n",
              "  'Restaurant': 'Fuddruckers',\n",
              "  'rating': 3.5},\n",
              " {'Categories': 'Herbs & Spices, Food, Specialty Food',\n",
              "  'RatingCount': 90,\n",
              "  'Restaurant': 'Savory Spice Shop',\n",
              "  'rating': 4.5}]"
            ]
          },
          "metadata": {
            "tags": []
          },
          "execution_count": 65
        }
      ]
    },
    {
      "cell_type": "code",
      "metadata": {
        "id": "GhLORwxA8Xag",
        "colab_type": "code",
        "colab": {}
      },
      "source": [
        "def new_user(CITY,words):\n",
        "  flag=0\n",
        "  # words = input(\"Enter your value: \") \n",
        "  test_df= pd.DataFrame([words], columns=['text'])\n",
        "  test_df['text'] = test_df['text'].apply(text_process)\n",
        "  test_vectors = userid_vectorizer.transform(test_df['text'])  \n",
        "  test_v_df = pd.DataFrame(test_vectors.toarray(), index=test_df.index, columns=userid_vectorizer.get_feature_names())\n",
        "  to_return=[]\n",
        "  predictItemRating=pd.DataFrame(np.dot(test_v_df.loc[0],Q.T),index=Q.index,columns=['Rating'])\n",
        "  topRecommendations=pd.DataFrame.sort_values(predictItemRating,['Rating'],ascending=[0])\n",
        "  # print(topRecommendations)\n",
        "\n",
        "  for i in topRecommendations.index:\n",
        "    if flag==5:\n",
        "        break\n",
        "    if databusiness[databusiness['business_id']==i]['city'].any()==CITY.lower():\n",
        "      # print(databusiness[databusiness['business_id']==i]['name'].iloc[0])\n",
        "      # print(databusiness[databusiness['business_id']==i]['categories'].iloc[0])\n",
        "      # print(str(databusiness[databusiness['business_id']==i]['stars'].iloc[0])+ ' '+str(databusiness[databusiness['business_id']==i]['RatingCount'].iloc[0]))\n",
        "      # print('')\n",
        "      flag=flag+1\n",
        "      to_return.append({\n",
        "          'Restaurant':databusiness[databusiness['business_id']==i]['name'].iloc[0],\n",
        "          'Categories':databusiness[databusiness['business_id']==i]['categories'].iloc[0],\n",
        "          'rating':databusiness[databusiness['business_id']==i]['stars'].iloc[0],\n",
        "          'RatingCount':databusiness[databusiness['business_id']==i]['RatingCount'].iloc[0]\n",
        "                 })  \n",
        "  return to_return\n"
      ],
      "execution_count": 0,
      "outputs": []
    },
    {
      "cell_type": "code",
      "metadata": {
        "id": "AH9J5r-z8ccr",
        "colab_type": "code",
        "outputId": "7cf4aa30-bf67-46e9-ad77-107b090a52b1",
        "colab": {
          "base_uri": "https://localhost:8080/",
          "height": 353
        }
      },
      "source": [
        "t=new_user('Kochi','food')\n",
        "t"
      ],
      "execution_count": 0,
      "outputs": [
        {
          "output_type": "execute_result",
          "data": {
            "text/plain": [
              "[{'Categories': 'Fast Food, Burgers, Restaurants',\n",
              "  'RatingCount': 6,\n",
              "  'Restaurant': \"Wendy's\",\n",
              "  'rating': 2.0},\n",
              " {'Categories': 'Restaurants, Food, Cafes',\n",
              "  'RatingCount': 14,\n",
              "  'Restaurant': 'Vals Getaway DES Cafeteria',\n",
              "  'rating': 3.0},\n",
              " {'Categories': 'Food, Nightlife, Bars, Sports Bars, Beer, Wine & Spirits, Restaurants',\n",
              "  'RatingCount': 82,\n",
              "  'Restaurant': 'Tailgaters Sports Bar & Grill',\n",
              "  'rating': 3.0},\n",
              " {'Categories': 'Burgers, Restaurants, American (Traditional)',\n",
              "  'RatingCount': 115,\n",
              "  'Restaurant': 'Fuddruckers',\n",
              "  'rating': 3.0},\n",
              " {'Categories': 'Hotels & Travel, American (Traditional), Bed & Breakfast, Restaurants, Breakfast & Brunch, Salad, Comfort Food, American (New)',\n",
              "  'RatingCount': 19,\n",
              "  'Restaurant': 'Bob Evans',\n",
              "  'rating': 3.5}]"
            ]
          },
          "metadata": {
            "tags": []
          },
          "execution_count": 67
        }
      ]
    },
    {
      "cell_type": "code",
      "metadata": {
        "id": "zVKKT3ged_0p",
        "colab_type": "code",
        "colab": {}
      },
      "source": [
        "err=0\n",
        "N=0\n",
        "for i in range(yelp_data_test.shape[0]):\n",
        "\n",
        "  user=yelp_data_test.iloc[i]['user_id']\n",
        "  business=yelp_data_test.iloc[i]['business_id']\n",
        "  if (user in P.index) & (business in Q.index):\n",
        "    N=N+1\n",
        "    err=err+abs((yelp_data_test.iloc[i]['stars'])-np.dot(P.loc[user],Q.loc[business]))\n",
        "    print(err)\n",
        "    # print(yelp_data_test.iloc[i]['stars'])\n",
        "    # print(P.loc[user])\n",
        "    # print(Q.loc[business])\n",
        "    print(N)\n",
        "    # print('\\n')\n",
        "e=err/N"
      ],
      "execution_count": 0,
      "outputs": []
    },
    {
      "cell_type": "code",
      "metadata": {
        "id": "x1rLSlNU9CEN",
        "colab_type": "code",
        "colab": {}
      },
      "source": [
        "err=0\n",
        "N=0\n",
        "for i in range(yelp_data_test.shape[0]):\n",
        "\n",
        "  user=yelp_data_test.iloc[i]['user_id']\n",
        "  business=yelp_data_test.iloc[i]['business_id']\n",
        "  if (user in P.index) & (business in Q.index):\n",
        "    N=N+1\n",
        "    err=err+pow((yelp_data_test.iloc[i]['stars'])-np.dot(P.loc[user],Q.loc[business]),2)\n",
        "    print(err)\n",
        "    # print(yelp_data_test.iloc[i]['stars'])\n",
        "    # print(P.loc[user])\n",
        "    # print(Q.loc[business])\n",
        "    print(N)\n",
        "    # print('\\n')\n",
        "e=err/N"
      ],
      "execution_count": 0,
      "outputs": []
    },
    {
      "cell_type": "code",
      "metadata": {
        "id": "sHypN881_XMP",
        "colab_type": "code",
        "outputId": "2479c00f-9bb0-4d92-c809-f0a1f2166b1e",
        "colab": {
          "base_uri": "https://localhost:8080/",
          "height": 34
        }
      },
      "source": [
        "e"
      ],
      "execution_count": 0,
      "outputs": [
        {
          "output_type": "execute_result",
          "data": {
            "text/plain": [
              "0.13119333999257354"
            ]
          },
          "metadata": {
            "tags": []
          },
          "execution_count": 40
        }
      ]
    },
    {
      "cell_type": "code",
      "metadata": {
        "id": "_Xi1RB529_jm",
        "colab_type": "code",
        "colab": {}
      },
      "source": [
        "def new_user(CITY):\n",
        "  words = input(\"Enter your value: \") \n",
        "  test_df= pd.DataFrame([words], columns=['text'])\n",
        "  test_df['text'] = test_df['text'].apply(text_process)\n",
        "  test_vectors = userid_vectorizer.transform(test_df['text'])  \n",
        "  test_v_df = pd.DataFrame(test_vectors.toarray(), index=test_df.index, columns=userid_vectorizer.get_feature_names())\n",
        "\n",
        "  predictItemRating=pd.DataFrame(np.dot(test_v_df.loc[0],Q.T),index=Q.index,columns=['Rating'])\n",
        "  topRecommendations=pd.DataFrame.sort_values(predictItemRating,['Rating'],ascending=[0])\n",
        "  # print(topRecommendations)\n",
        "\n",
        "  for i in topRecommendations.index:\n",
        "    if databusiness[databusiness['business_id']==i]['city'].any()==CITY:\n",
        "      print(databusiness[databusiness['business_id']==i]['name'].iloc[0])\n",
        "      print(databusiness[databusiness['business_id']==i]['categories'].iloc[0])\n",
        "      print(str(databusiness[databusiness['business_id']==i]['stars'].iloc[0])+ ' '+str(databusiness[databusiness['business_id']==i]['RatingCount'].iloc[0]))\n",
        "      print('')\n"
      ],
      "execution_count": 0,
      "outputs": []
    },
    {
      "cell_type": "code",
      "metadata": {
        "colab_type": "code",
        "id": "-LSWWFgXkPTg",
        "colab": {}
      },
      "source": [
        "new_user('Kochi')"
      ],
      "execution_count": 0,
      "outputs": []
    },
    {
      "cell_type": "code",
      "metadata": {
        "id": "NSrnQtVr9_cn",
        "colab_type": "code",
        "colab": {}
      },
      "source": [
        "def User_Rating(user_id,CITY):\n",
        "  flag=0\n",
        "  # words = userid_df.loc[user_id]['text']\n",
        "  # test_df= pd.DataFrame([words], columns=['text'])\n",
        "  # test_df['text'] = test_df['text'].apply(text_process)\n",
        "  # test_vectors = userid_vectorizer.transform(test_df['text'])  \n",
        "  # test_v_df = pd.DataFrame(test_vectors.toarray(), index=test_df.index, columns=userid_vectorizer.get_feature_names())\n",
        "  # print(test_v_df)\n",
        "  if user_id in P.index:\n",
        "    test_v_df1=pd.DataFrame(P.loc[P.index==user_id])\n",
        "    test_v_df1=test_v_df1.reset_index(drop=True)\n",
        "\n",
        "    predictItemRating=pd.DataFrame(np.dot(test_v_df1.loc[0],Q.T),index=Q.index,columns=['Rating'])\n",
        "    topRecommendations=pd.DataFrame.sort_values(predictItemRating,['Rating'],ascending=[0])\n",
        "  # print(topRecommendations)\n",
        "    to_return=[]\n",
        "    for i in topRecommendations.index:\n",
        "      if flag==5:\n",
        "        break\n",
        "      if databusiness[databusiness['business_id']==i]['city'].any()==CITY:\n",
        "      # print(data_business[data_business['business_id']==i]['name'].iloc[0])\n",
        "      # print('Categories : '+data_business[data_business['business_id']==i]['categories'].iloc[0])\n",
        "      # print(str(data_business[data_business['business_id']==i]['stars'].iloc[0])+ ' '+str(data_business[data_business['business_id']==i]['review_count'].iloc[0]))\n",
        "      # print('')\n",
        "        flag=flag+1\n",
        "        to_return.append({\n",
        "          'Restaurant':databusiness[databusiness['business_id']==i]['name'].iloc[0],\n",
        "          'Categories':databusiness[databusiness['business_id']==i]['categories'].iloc[0],\n",
        "          'rating':databusiness[databusiness['business_id']==i]['stars'].iloc[0],\n",
        "          'rating_count':databusiness[databusiness['business_id']==i]['RatingCount'].iloc[0]\n",
        "                 })      \n",
        "    \n",
        "    if flag==0:\n",
        "      print('no restaurant in the city')\n",
        "    return to_return\n",
        "  else:\n",
        "    print('user not in the list')"
      ],
      "execution_count": 0,
      "outputs": []
    },
    {
      "cell_type": "code",
      "metadata": {
        "id": "_CUelMifFPlo",
        "colab_type": "code",
        "outputId": "a0dcaf7f-16e1-4dc9-a72e-75e5f8ea1006",
        "colab": {
          "base_uri": "https://localhost:8080/",
          "height": 373
        }
      },
      "source": [
        "t"
      ],
      "execution_count": 0,
      "outputs": [
        {
          "output_type": "execute_result",
          "data": {
            "text/plain": [
              "[{'Categories': 'Caterers, Hot Dogs, Restaurants, Vegetarian, American (Traditional), Event Planning & Services',\n",
              "  'Restaurant': \"JJ's Red Hots - Dilworth\",\n",
              "  'rating': 4.0,\n",
              "  'rating_count': 380},\n",
              " {'Categories': 'Indian, Restaurants',\n",
              "  'Restaurant': 'Marigold Maison- Paradise Valley',\n",
              "  'rating': 4.0,\n",
              "  'rating_count': 497},\n",
              " {'Categories': 'Burgers, Restaurants, American (New), Bars, American (Traditional), Nightlife',\n",
              "  'Restaurant': 'The Turnhouse Grille',\n",
              "  'rating': 4.5,\n",
              "  'rating_count': 102},\n",
              " {'Categories': 'American (Traditional), Burgers, Restaurants',\n",
              "  'Restaurant': 'Fuddruckers',\n",
              "  'rating': 3.5,\n",
              "  'rating_count': 114},\n",
              " {'Categories': 'Herbs & Spices, Food, Specialty Food',\n",
              "  'Restaurant': 'Savory Spice Shop',\n",
              "  'rating': 4.5,\n",
              "  'rating_count': 90}]"
            ]
          },
          "metadata": {
            "tags": []
          },
          "execution_count": 44
        }
      ]
    },
    {
      "cell_type": "code",
      "metadata": {
        "id": "QB5IZFqxdoGO",
        "colab_type": "code",
        "colab": {}
      },
      "source": [
        ""
      ],
      "execution_count": 0,
      "outputs": []
    },
    {
      "cell_type": "code",
      "metadata": {
        "id": "75D-HUIZnf_Q",
        "colab_type": "code",
        "colab": {}
      },
      "source": [
        "t=User_Rating('xd0ZjCAAOoBnjfZnDKA','Kochi')"
      ],
      "execution_count": 0,
      "outputs": []
    },
    {
      "cell_type": "code",
      "metadata": {
        "id": "o9iUzQnSnkoR",
        "colab_type": "code",
        "outputId": "c22c20c2-6b98-4981-845b-21efa21e0c48",
        "colab": {
          "base_uri": "https://localhost:8080/",
          "height": 467
        }
      },
      "source": [
        "t"
      ],
      "execution_count": 0,
      "outputs": [
        {
          "output_type": "execute_result",
          "data": {
            "text/html": [
              "<div>\n",
              "<style scoped>\n",
              "    .dataframe tbody tr th:only-of-type {\n",
              "        vertical-align: middle;\n",
              "    }\n",
              "\n",
              "    .dataframe tbody tr th {\n",
              "        vertical-align: top;\n",
              "    }\n",
              "\n",
              "    .dataframe thead th {\n",
              "        text-align: right;\n",
              "    }\n",
              "</style>\n",
              "<table border=\"1\" class=\"dataframe\">\n",
              "  <thead>\n",
              "    <tr style=\"text-align: right;\">\n",
              "      <th></th>\n",
              "      <th>Unnamed: 0</th>\n",
              "      <th>name</th>\n",
              "      <th>city</th>\n",
              "      <th>stars</th>\n",
              "      <th>RatingCount</th>\n",
              "      <th>categories</th>\n",
              "      <th>Airport</th>\n",
              "      <th>score</th>\n",
              "    </tr>\n",
              "  </thead>\n",
              "  <tbody>\n",
              "    <tr>\n",
              "      <th>0</th>\n",
              "      <td>25</td>\n",
              "      <td>Maria's Mexican Restaurant &amp; Bakery</td>\n",
              "      <td>Kochi</td>\n",
              "      <td>4.5</td>\n",
              "      <td>184</td>\n",
              "      <td>Mexican, Restaurants, Patisserie/Cake Shop, Fo...</td>\n",
              "      <td>Cochin International Airport</td>\n",
              "      <td>4.128621</td>\n",
              "    </tr>\n",
              "    <tr>\n",
              "      <th>1</th>\n",
              "      <td>1534</td>\n",
              "      <td>Fuego Taco Shop</td>\n",
              "      <td>Kochi</td>\n",
              "      <td>4.5</td>\n",
              "      <td>143</td>\n",
              "      <td>Food, Mexican, Restaurants</td>\n",
              "      <td>Cochin International Airport</td>\n",
              "      <td>4.069741</td>\n",
              "    </tr>\n",
              "    <tr>\n",
              "      <th>2</th>\n",
              "      <td>2088</td>\n",
              "      <td>Songbird Coffee &amp; Tea House</td>\n",
              "      <td>Kochi</td>\n",
              "      <td>4.5</td>\n",
              "      <td>136</td>\n",
              "      <td>Coffee &amp; Tea, Cafes, Food, Tea Rooms, Restaura...</td>\n",
              "      <td>Cochin International Airport</td>\n",
              "      <td>4.057770</td>\n",
              "    </tr>\n",
              "    <tr>\n",
              "      <th>3</th>\n",
              "      <td>1664</td>\n",
              "      <td>Marigold Maison- Paradise Valley</td>\n",
              "      <td>Kochi</td>\n",
              "      <td>4.0</td>\n",
              "      <td>497</td>\n",
              "      <td>Indian, Restaurants</td>\n",
              "      <td>Cochin International Airport</td>\n",
              "      <td>3.912724</td>\n",
              "    </tr>\n",
              "    <tr>\n",
              "      <th>4</th>\n",
              "      <td>157</td>\n",
              "      <td>JJ's Red Hots - Dilworth</td>\n",
              "      <td>Kochi</td>\n",
              "      <td>4.0</td>\n",
              "      <td>380</td>\n",
              "      <td>Caterers, Hot Dogs, Restaurants, Vegetarian, A...</td>\n",
              "      <td>Cochin International Airport</td>\n",
              "      <td>3.892121</td>\n",
              "    </tr>\n",
              "  </tbody>\n",
              "</table>\n",
              "</div>"
            ],
            "text/plain": [
              "   Unnamed: 0  ...     score\n",
              "0          25  ...  4.128621\n",
              "1        1534  ...  4.069741\n",
              "2        2088  ...  4.057770\n",
              "3        1664  ...  3.912724\n",
              "4         157  ...  3.892121\n",
              "\n",
              "[5 rows x 8 columns]"
            ]
          },
          "metadata": {
            "tags": []
          },
          "execution_count": 62
        }
      ]
    },
    {
      "cell_type": "code",
      "metadata": {
        "id": "ZD6OgtP-gQI3",
        "colab_type": "code",
        "colab": {}
      },
      "source": [
        "t=User_Rating('-2UOdDlzg7XLuUuyOrldhA','Bhopal')"
      ],
      "execution_count": 0,
      "outputs": []
    },
    {
      "cell_type": "code",
      "metadata": {
        "id": "s9uDbFsRjqLi",
        "colab_type": "code",
        "colab": {}
      },
      "source": [
        "t"
      ],
      "execution_count": 0,
      "outputs": []
    },
    {
      "cell_type": "code",
      "metadata": {
        "id": "on3bNBTAl6GD",
        "colab_type": "code",
        "colab": {}
      },
      "source": [
        "y=databusiness.loc[databusiness['city']=='Tezu']"
      ],
      "execution_count": 0,
      "outputs": []
    },
    {
      "cell_type": "code",
      "metadata": {
        "id": "cTKynoc5_kJk",
        "colab_type": "code",
        "colab": {}
      },
      "source": [
        "y"
      ],
      "execution_count": 0,
      "outputs": []
    },
    {
      "cell_type": "code",
      "metadata": {
        "id": "XzhuapGh_m3Q",
        "colab_type": "code",
        "colab": {}
      },
      "source": [
        "def User_Rating(user_id,CITY):\n",
        "  if user_id in P.index:\n",
        "    test_v_df1=pd.DataFrame(P.loc[P.index==user_id])\n",
        "    test_v_df1=test_v_df1.reset_index(drop=True)\n",
        "\n",
        "    predictItemRating=pd.DataFrame(np.dot(test_v_df1.loc[0],Q.T),index=Q.index,columns=['Rating'])\n",
        "    topRecommendations=pd.DataFrame.sort_values(predictItemRating,['Rating'],ascending=[0])\n",
        "  # print(topRecommendations)\n",
        "    to_return=[]\n",
        "    for i in topRecommendations.index:\n",
        "      if databusiness[databusiness['business_id']==i]['city'].any()==CITY:\n",
        "\n",
        "        flag=flag+1\n",
        "        to_return.append({\n",
        "          'Restaurant':databusiness[databusiness['business_id']==i]['name'].iloc[0],\n",
        "          'Categories':databusiness[databusiness['business_id']==i]['categories'].iloc[0],\n",
        "          'rating':databusiness[databusiness['business_id']==i]['stars'].iloc[0],\n",
        "          'rating_count':databusiness[databusiness['business_id']==i]['RatingCount'].iloc[0]\n",
        "                 })      \n",
        "    \n",
        "    if flag==0:\n",
        "      print('no restaurant in the city')\n",
        "    return to_return\n",
        "  else:\n",
        "    print('user not in the list')"
      ],
      "execution_count": 0,
      "outputs": []
    },
    {
      "cell_type": "code",
      "metadata": {
        "id": "c7Zp3-NPv1Oq",
        "colab_type": "code",
        "outputId": "86d5489d-68e6-493a-d9b1-b63b8f566492",
        "colab": {
          "base_uri": "https://localhost:8080/",
          "height": 34
        }
      },
      "source": [
        "e"
      ],
      "execution_count": 0,
      "outputs": [
        {
          "output_type": "execute_result",
          "data": {
            "text/plain": [
              "0.04985620191052029"
            ]
          },
          "metadata": {
            "tags": []
          },
          "execution_count": 39
        }
      ]
    },
    {
      "cell_type": "code",
      "metadata": {
        "id": "I9-e6SSskFNH",
        "colab_type": "code",
        "colab": {}
      },
      "source": [
        "# data_business1=pd.read_json('/content/drive/My Drive/recommender/yelp_academic_dataset_business.json',lines=True)"
      ],
      "execution_count": 0,
      "outputs": []
    },
    {
      "cell_type": "code",
      "metadata": {
        "id": "jkgjew-rkJBg",
        "colab_type": "code",
        "colab": {}
      },
      "source": [
        "# data_business1=data_business1.rename(columns = {'review_count': 'RatingCount'})"
      ],
      "execution_count": 0,
      "outputs": []
    },
    {
      "cell_type": "code",
      "metadata": {
        "id": "yLLghwYHkQAy",
        "colab_type": "code",
        "colab": {}
      },
      "source": [
        "#  data_business1=data_business1.dropna(subset=['categories'])"
      ],
      "execution_count": 0,
      "outputs": []
    },
    {
      "cell_type": "code",
      "metadata": {
        "id": "e5TEqY6rkenR",
        "colab_type": "code",
        "colab": {}
      },
      "source": [
        "# data_business1 = data_business1[data_business1['categories'].str.contains(\"Food|Coffee|Tea|Restaurants|Bakeries|cake|Donuts|Bakeries|Food|Sandwiches|Ice Cream|Yogurt|Breakfast|Brunch|Burgers|Dinners|Salad|Pizza\")]"
      ],
      "execution_count": 0,
      "outputs": []
    },
    {
      "cell_type": "code",
      "metadata": {
        "id": "TCCqGBbmmSqW",
        "colab_type": "code",
        "outputId": "33b168e7-956b-4ac5-90bd-b54c2ee263b9",
        "colab": {
          "base_uri": "https://localhost:8080/",
          "height": 34
        }
      },
      "source": [
        "# data_business1.shape"
      ],
      "execution_count": 0,
      "outputs": [
        {
          "output_type": "execute_result",
          "data": {
            "text/plain": [
              "(75460, 14)"
            ]
          },
          "metadata": {
            "tags": []
          },
          "execution_count": 252
        }
      ]
    },
    {
      "cell_type": "code",
      "metadata": {
        "id": "m7PrT4oymSY9",
        "colab_type": "code",
        "colab": {}
      },
      "source": [
        "# data_business1"
      ],
      "execution_count": 0,
      "outputs": []
    },
    {
      "cell_type": "code",
      "metadata": {
        "id": "WJnd0FZVmirW",
        "colab_type": "code",
        "colab": {}
      },
      "source": [
        "# df=data_business1[:2000]"
      ],
      "execution_count": 0,
      "outputs": []
    },
    {
      "cell_type": "code",
      "metadata": {
        "id": "wW560JjZtHJx",
        "colab_type": "code",
        "colab": {}
      },
      "source": [
        ""
      ],
      "execution_count": 0,
      "outputs": []
    },
    {
      "cell_type": "code",
      "metadata": {
        "id": "EmMbxFAhnaRy",
        "colab_type": "code",
        "colab": {}
      },
      "source": [
        "# df=df[['business_id', 'name', 'city', 'stars', 'RatingCount', 'categories']]"
      ],
      "execution_count": 0,
      "outputs": []
    },
    {
      "cell_type": "code",
      "metadata": {
        "id": "pfMBxubLncLK",
        "colab_type": "code",
        "colab": {}
      },
      "source": [
        "# df=pd.read_csv('/content/drive/My Drive/recommender/df.csv')"
      ],
      "execution_count": 0,
      "outputs": []
    },
    {
      "cell_type": "code",
      "metadata": {
        "id": "Gu2Po9CyvF5g",
        "colab_type": "code",
        "colab": {}
      },
      "source": [
        "# df.head()"
      ],
      "execution_count": 0,
      "outputs": []
    },
    {
      "cell_type": "code",
      "metadata": {
        "id": "Tc7jUEZtos9x",
        "colab_type": "code",
        "colab": {}
      },
      "source": [
        ""
      ],
      "execution_count": 0,
      "outputs": []
    },
    {
      "cell_type": "code",
      "metadata": {
        "id": "k4qtNub5LK-b",
        "colab_type": "code",
        "colab": {}
      },
      "source": [
        ""
      ],
      "execution_count": 0,
      "outputs": []
    },
    {
      "cell_type": "code",
      "metadata": {
        "id": "6tUcmIN1bo5F",
        "colab_type": "code",
        "outputId": "89928a18-e3ad-4530-d095-dba56379c9b7",
        "colab": {
          "base_uri": "https://localhost:8080/",
          "height": 67
        }
      },
      "source": [
        "df_concat1.columns"
      ],
      "execution_count": 0,
      "outputs": [
        {
          "output_type": "execute_result",
          "data": {
            "text/plain": [
              "Index(['review_id', 'user_id', 'business_id', 'stars', 'useful', 'funny',\n",
              "       'cool', 'text', 'date'],\n",
              "      dtype='object')"
            ]
          },
          "metadata": {
            "tags": []
          },
          "execution_count": 10
        }
      ]
    },
    {
      "cell_type": "code",
      "metadata": {
        "id": "aM1REHZVwg-4",
        "colab_type": "code",
        "colab": {}
      },
      "source": [
        ""
      ],
      "execution_count": 0,
      "outputs": []
    },
    {
      "cell_type": "code",
      "metadata": {
        "id": "sIdiEQN1Nkk6",
        "colab_type": "code",
        "colab": {}
      },
      "source": [
        "databusi=databusiness"
      ],
      "execution_count": 0,
      "outputs": []
    },
    {
      "cell_type": "code",
      "metadata": {
        "id": "w8YRpP7GNkcL",
        "colab_type": "code",
        "outputId": "dd8f75a3-bfea-4843-898f-ccc3ff7f9679",
        "colab": {
          "base_uri": "https://localhost:8080/",
          "height": 202
        }
      },
      "source": [
        "databusi['city'].value_counts()"
      ],
      "execution_count": 0,
      "outputs": [
        {
          "output_type": "execute_result",
          "data": {
            "text/plain": [
              "Ranchi         200\n",
              "Chennai        200\n",
              "Guwahati       200\n",
              "Cuddapah       200\n",
              "Cooch Behar    200\n",
              "Kochi          200\n",
              "Chandigarh     200\n",
              "Car Nicobar    200\n",
              "Mumbai         200\n",
              "Aurangabad     200\n",
              "Name: city, dtype: int64"
            ]
          },
          "metadata": {
            "tags": []
          },
          "execution_count": 28
        }
      ]
    },
    {
      "cell_type": "code",
      "metadata": {
        "id": "tuDaySVHfLWZ",
        "colab_type": "code",
        "colab": {}
      },
      "source": [
        ""
      ],
      "execution_count": 0,
      "outputs": []
    }
  ]
}