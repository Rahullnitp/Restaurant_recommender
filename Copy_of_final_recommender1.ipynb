{
  "nbformat": 4,
  "nbformat_minor": 0,
  "metadata": {
    "colab": {
      "name": "Copy of final_recommender1.ipynb",
      "provenance": [],
      "collapsed_sections": [],
      "machine_shape": "hm",
      "include_colab_link": true
    },
    "kernelspec": {
      "name": "python3",
      "display_name": "Python 3"
    },
    "accelerator": "GPU"
  },
  "cells": [
    {
      "cell_type": "markdown",
      "metadata": {
        "id": "view-in-github",
        "colab_type": "text"
      },
      "source": [
        "<a href=\"https://colab.research.google.com/github/Rahullnitp/Restaurant_recommender/blob/master/Copy_of_final_recommender1.ipynb\" target=\"_parent\"><img src=\"https://colab.research.google.com/assets/colab-badge.svg\" alt=\"Open In Colab\"/></a>"
      ]
    },
    {
      "cell_type": "code",
      "metadata": {
        "id": "qrmOrftc0-Zp",
        "colab_type": "code",
        "colab": {}
      },
      "source": [
        ""
      ],
      "execution_count": 0,
      "outputs": []
    },
    {
      "cell_type": "code",
      "metadata": {
        "id": "3HSzurz31Bue",
        "colab_type": "code",
        "outputId": "5ece4294-c41f-4432-b00b-c003987fce2f",
        "colab": {
          "base_uri": "https://localhost:8080/",
          "height": 121
        }
      },
      "source": [
        "from google.colab import drive\n",
        "drive.mount('/content/drive')"
      ],
      "execution_count": 0,
      "outputs": [
        {
          "output_type": "stream",
          "text": [
            "Go to this URL in a browser: https://accounts.google.com/o/oauth2/auth?client_id=947318989803-6bn6qk8qdgf4n4g3pfee6491hc0brc4i.apps.googleusercontent.com&redirect_uri=urn%3aietf%3awg%3aoauth%3a2.0%3aoob&response_type=code&scope=email%20https%3a%2f%2fwww.googleapis.com%2fauth%2fdocs.test%20https%3a%2f%2fwww.googleapis.com%2fauth%2fdrive%20https%3a%2f%2fwww.googleapis.com%2fauth%2fdrive.photos.readonly%20https%3a%2f%2fwww.googleapis.com%2fauth%2fpeopleapi.readonly\n",
            "\n",
            "Enter your authorization code:\n",
            "··········\n",
            "Mounted at /content/drive\n"
          ],
          "name": "stdout"
        }
      ]
    },
    {
      "cell_type": "code",
      "metadata": {
        "id": "E4rGSudKu2xz",
        "colab_type": "code",
        "outputId": "8366a1c2-10c2-4c3a-d28c-7c572dda68c2",
        "colab": {
          "base_uri": "https://localhost:8080/",
          "height": 50
        }
      },
      "source": [
        "import numpy as np \n",
        "import pandas as pd \n",
        "import re\n",
        "import warnings\n",
        "from sklearn.feature_extraction.text import TfidfVectorizer\n",
        "from sklearn.metrics.pairwise import linear_kernel\n",
        "import gc\n",
        "import json\n",
        "from sklearn.model_selection import train_test_split\n",
        "from nltk.corpus import stopwords \n",
        "from nltk.tokenize import WordPunctTokenizer\n",
        "\n",
        "\n",
        "databusiness=pd.read_csv('/content/drive/My Drive/recommender/df.csv')\n",
        "\n",
        "yelp_data=pd.read_csv('/content/drive/My Drive/recommender/yelpData.csv')\n",
        "\n",
        "\n",
        "import nltk\n",
        "nltk.download('stopwords')\n",
        "import string\n",
        "from nltk.corpus import stopwords\n",
        "stop = []\n",
        "for word in stopwords.words('english'):\n",
        "    s = [char for char in word if char not in string.punctuation]\n",
        "    stop.append(''.join(s))\n",
        "def text_process(mess):                                                                                                                                                                                                                                                                              \n",
        "    \"\"\"\n",
        "    Takes in a string of text, then performs the following:\n",
        "    1. Remove all punctuation\n",
        "    2. Remove all stopwords\n",
        "    3. Returns a list of the cleaned text\n",
        "    \"\"\"\n",
        "    # Check characters to see if they are in punctuation\n",
        "    nopunc = [char for char in mess if char not in string.punctuation]\n",
        "\n",
        "    # Join the characters again to form the string.\n",
        "    nopunc = ''.join(nopunc)\n",
        "    \n",
        "    # Now just remove any stopwords\n",
        "    return \" \".join([word for word in nopunc.split() if word.lower() not in stop])\n",
        "userid_df = yelp_data[['user_id','text']]\n",
        "userid_df = userid_df.groupby('user_id').agg({'text': ' '.join})\n",
        "userid_vectorizer = TfidfVectorizer(tokenizer = WordPunctTokenizer().tokenize, max_features=3200)\n",
        "userid_vectorizer.fit_transform(userid_df['text'])\n",
        "import pickle\n",
        "\n",
        "pickle_in = open(\"/content/drive/My Drive/recommender/P_Q_new.pkl\",\"rb\")\n",
        "P= pickle.load(pickle_in)\n",
        "Q=pickle.load(pickle_in)\n",
        "# userid_vectorizer=pickle.load(pickle_in)\n",
        "pickle_in.close()\n",
        "\n",
        "def weighted_rating(x,C,m):\n",
        "  v=x['RatingCount']\n",
        "  R=x['stars']\n",
        " \n",
        "  w_r=(v/(v+m))*R + (m/(v+m))*C\n",
        "  # w_r.sort_values(by=['score'], inplace=True)\n",
        "  return w_r\n",
        "\n",
        "def User_Rating(user_id,CITY):\n",
        "  flag=0\n",
        "\n",
        "  if user_id in P.index:\n",
        "    test_v_df1=pd.DataFrame(P.loc[P.index==user_id])\n",
        "    test_v_df1=test_v_df1.reset_index(drop=True)\n",
        "\n",
        "    predictItemRating=pd.DataFrame(np.dot(test_v_df1.loc[0],Q.T),index=Q.index,columns=['Rating'])\n",
        "    topRecommendations=pd.DataFrame.sort_values(predictItemRating,['Rating'],ascending=[0])\n",
        "  # print(topRecommendations)\n",
        "    to_return=[]\n",
        "    for i in topRecommendations.index:\n",
        "      if flag==5:\n",
        "        break\n",
        "      if databusiness[databusiness['business_id']==i]['city'].any()==CITY:\n",
        "\n",
        "        flag=flag+1\n",
        "        to_return.append({\n",
        "          'Restaurant':databusiness[databusiness['business_id']==i]['name'].iloc[0],\n",
        "          'Categories':databusiness[databusiness['business_id']==i]['categories'].iloc[0],\n",
        "          'rating':databusiness[databusiness['business_id']==i]['stars'].iloc[0],\n",
        "          'RatingCount':databusiness[databusiness['business_id']==i]['RatingCount'].iloc[0]\n",
        "                 })      \n",
        "    \n",
        "    if flag==0:\n",
        "      print('no restaurant in the city')\n",
        "    return to_return\n",
        "  else:\n",
        "    weighted_data=databusiness.loc[databusiness['city']==CITY]\n",
        "    C=weighted_data['stars'].mean()\n",
        "    m=weighted_data['RatingCount'].quantile(0.90)\n",
        "    qualified_rest=weighted_data.copy().loc[weighted_data['RatingCount'] >= m]  \n",
        "\n",
        "    qualified_rest['score'] =weighted_rating(qualified_rest,C,m)\n",
        "    # qualified_rest['score'] = qualified_rest.apply(weighted_rating, axis=1)\n",
        "    qualified_rest.sort_values(by=['score'], inplace=True,ascending=False)\n",
        "    # qualified_rest=pd.DataFrame(qualified_rest).drop(['business_id'],axis=1).reset_index(drop=True)\n",
        "    qualified_rest=pd.DataFrame(qualified_rest).reset_index(drop=True)\n",
        "    to_return=[]\n",
        "    for i in qualified_rest.business_id:\n",
        "      if flag==5:\n",
        "        break\n",
        "      if databusiness[databusiness['business_id']==i]['city'].any()==CITY:\n",
        "\n",
        "        flag=flag+1\n",
        "        to_return.append({\n",
        "          'Restaurant':databusiness[databusiness['business_id']==i]['name'].iloc[0],\n",
        "          'Categories':databusiness[databusiness['business_id']==i]['categories'].iloc[0],\n",
        "          'rating':databusiness[databusiness['business_id']==i]['stars'].iloc[0],\n",
        "          'RatingCount':databusiness[databusiness['business_id']==i]['RatingCount'].iloc[0]\n",
        "                 })      \n",
        "    \n",
        "\n",
        "    return to_return\n",
        "\n",
        "def new_user(CITY,words):\n",
        "  flag=0\n",
        "  # words = input(\"Enter your value: \") \n",
        "  test_df= pd.DataFrame([words], columns=['text'])\n",
        "  test_df['text'] = test_df['text'].apply(text_process)\n",
        "  test_vectors = userid_vectorizer.transform(test_df['text'])  \n",
        "  test_v_df = pd.DataFrame(test_vectors.toarray(), index=test_df.index, columns=userid_vectorizer.get_feature_names())\n",
        "  to_return=[]\n",
        "  predictItemRating=pd.DataFrame(np.dot(test_v_df.loc[0],Q.T),index=Q.index,columns=['Rating'])\n",
        "  topRecommendations=pd.DataFrame.sort_values(predictItemRating,['Rating'],ascending=[0])\n",
        "  # print(topRecommendations)\n",
        "\n",
        "  for i in topRecommendations.index:\n",
        "    if flag==5:\n",
        "        break\n",
        "    if databusiness[databusiness['business_id']==i]['city'].any()==CITY:\n",
        "      # print(databusiness[databusiness['business_id']==i]['name'].iloc[0])\n",
        "      # print(databusiness[databusiness['business_id']==i]['categories'].iloc[0])\n",
        "      # print(str(databusiness[databusiness['business_id']==i]['stars'].iloc[0])+ ' '+str(databusiness[databusiness['business_id']==i]['RatingCount'].iloc[0]))\n",
        "      # print('')\n",
        "      flag=flag+1\n",
        "      to_return.append({\n",
        "          'Restaurant':databusiness[databusiness['business_id']==i]['name'].iloc[0],\n",
        "          'Categories':databusiness[databusiness['business_id']==i]['categories'].iloc[0],\n",
        "          'rating':databusiness[databusiness['business_id']==i]['stars'].iloc[0],\n",
        "          'RatingCount':databusiness[databusiness['business_id']==i]['RatingCount'].iloc[0]\n",
        "                 })  \n",
        "  return to_return\n"
      ],
      "execution_count": 0,
      "outputs": [
        {
          "output_type": "stream",
          "text": [
            "[nltk_data] Downloading package stopwords to /root/nltk_data...\n",
            "[nltk_data]   Package stopwords is already up-to-date!\n"
          ],
          "name": "stdout"
        }
      ]
    },
    {
      "cell_type": "code",
      "metadata": {
        "id": "kiQisXbYriRs",
        "colab_type": "code",
        "outputId": "7b310c7d-e50e-4405-bf53-b03307bc7042",
        "colab": {
          "base_uri": "https://localhost:8080/",
          "height": 353
        }
      },
      "source": [
        "new_user('Ranchi','Indian food')"
      ],
      "execution_count": 0,
      "outputs": [
        {
          "output_type": "execute_result",
          "data": {
            "text/plain": [
              "[{'Categories': 'Food Stands, Restaurants, Food, Street Vendors',\n",
              "  'RatingCount': 6,\n",
              "  'Restaurant': \"Goody Woody's\",\n",
              "  'rating': 4.0},\n",
              " {'Categories': 'Restaurants, Hot Dogs',\n",
              "  'RatingCount': 8,\n",
              "  'Restaurant': \"Windy City Beefs 'N Dogs\",\n",
              "  'rating': 3.5},\n",
              " {'Categories': 'Lounges, Bars, Nightlife, Tobacco Shops, Sports Bars, Beer, Wine & Spirits, Shopping, Food',\n",
              "  'RatingCount': 10,\n",
              "  'Restaurant': 'Desert Rose Cigar Lounge and Club',\n",
              "  'rating': 3.5},\n",
              " {'Categories': 'Seafood, Restaurants, Cajun/Creole, Sandwiches',\n",
              "  'RatingCount': 74,\n",
              "  'Restaurant': 'Battiste & Dupree Cajun Grill',\n",
              "  'rating': 4.0},\n",
              " {'Categories': 'Chinese, Restaurants',\n",
              "  'RatingCount': 200,\n",
              "  'Restaurant': 'Yao Fine Chinese Cuisine',\n",
              "  'rating': 4.0}]"
            ]
          },
          "metadata": {
            "tags": []
          },
          "execution_count": 11
        }
      ]
    },
    {
      "cell_type": "code",
      "metadata": {
        "id": "7r0rhh7_1TuO",
        "colab_type": "code",
        "colab": {}
      },
      "source": [
        ""
      ],
      "execution_count": 0,
      "outputs": []
    },
    {
      "cell_type": "code",
      "metadata": {
        "id": "pSF8DMFWaoqV",
        "colab_type": "code",
        "outputId": "77f3f537-cf1c-42e9-ff33-11cac574750f",
        "colab": {
          "base_uri": "https://localhost:8080/",
          "height": 353
        }
      },
      "source": [
        "User_Rating('QuZbJquRtbY9O9JrB9NpxQ','Ranchi')"
      ],
      "execution_count": 0,
      "outputs": [
        {
          "output_type": "execute_result",
          "data": {
            "text/plain": [
              "[{'Categories': 'Food, Coffee & Tea',\n",
              "  'RatingCount': 93,\n",
              "  'Restaurant': 'The Coffee Bean & Tea Leaf',\n",
              "  'rating': 4.0},\n",
              " {'Categories': 'Cheesesteaks, Sandwiches, Restaurants, American (Traditional), Delis',\n",
              "  'RatingCount': 444,\n",
              "  'Restaurant': \"Philly's Famous\",\n",
              "  'rating': 4.5},\n",
              " {'Categories': 'Food, Juice Bars & Smoothies, Coffee & Tea',\n",
              "  'RatingCount': 82,\n",
              "  'Restaurant': 'Dutch Bros Coffee',\n",
              "  'rating': 4.0},\n",
              " {'Categories': 'Nightlife, Wine Bars, Restaurants, Canadian (New), Bars',\n",
              "  'RatingCount': 108,\n",
              "  'Restaurant': 'Le Vin Papillon',\n",
              "  'rating': 4.5},\n",
              " {'Categories': 'Restaurants, Chinese, Asian Fusion',\n",
              "  'RatingCount': 416,\n",
              "  'Restaurant': \"Tott's Asian Diner\",\n",
              "  'rating': 4.0}]"
            ]
          },
          "metadata": {
            "tags": []
          },
          "execution_count": 7
        }
      ]
    },
    {
      "cell_type": "code",
      "metadata": {
        "id": "_brpoWB_vtsA",
        "colab_type": "code",
        "colab": {}
      },
      "source": [
        ""
      ],
      "execution_count": 0,
      "outputs": []
    }
  ]
}